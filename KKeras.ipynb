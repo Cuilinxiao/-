{
 "cells": [
  {
   "cell_type": "code",
   "execution_count": 110,
   "metadata": {},
   "outputs": [],
   "source": [
    "import numpy as np\n",
    "np.random.seed(1337)  # for reproducibility\n",
    "from keras.datasets import mnist\n",
    "from keras.utils import np_utils\n",
    "from keras.models import Sequential,Model\n",
    "from keras.layers import Dense, Activation\n",
    "from keras.optimizers import RMSprop\n",
    "\n"
   ]
  },
  {
   "cell_type": "code",
   "execution_count": 121,
   "metadata": {},
   "outputs": [],
   "source": [
    "X=np.linspace(1,10,200)"
   ]
  },
  {
   "cell_type": "code",
   "execution_count": 123,
   "metadata": {},
   "outputs": [],
   "source": [
    "np.random.shuffle(X)"
   ]
  },
  {
   "cell_type": "code",
   "execution_count": 124,
   "metadata": {},
   "outputs": [],
   "source": [
    "Y=3*X+5+np.random.randn(200,)"
   ]
  },
  {
   "cell_type": "code",
   "execution_count": 125,
   "metadata": {},
   "outputs": [],
   "source": [
    "import matplotlib.pyplot as plt"
   ]
  },
  {
   "cell_type": "code",
   "execution_count": 127,
   "metadata": {},
   "outputs": [
    {
     "data": {
      "text/plain": [
       "<matplotlib.collections.PathCollection at 0x225c0cdbef0>"
      ]
     },
     "execution_count": 127,
     "metadata": {},
     "output_type": "execute_result"
    },
    {
     "data": {
      "image/png": "[encoded data removed]",
      "text/plain": [
       "<Figure size 432x288 with 1 Axes>"
      ]
     },
     "metadata": {
      "needs_background": "light"
     },
     "output_type": "display_data"
    }
   ],
   "source": [
    "plt.figure()\n",
    "plt.scatter(X,Y)"
   ]
  },
  {
   "cell_type": "code",
   "execution_count": 167,
   "metadata": {},
   "outputs": [],
   "source": [
    "from keras.models import Model,load_model\n",
    "from keras.layers import Dense,Dropout,Flatten,Input,Conv2D,MaxPool2D\n",
    "from keras.callbacks import ReduceLROnPlateau,ModelCheckpoint,EarlyStopping\n",
    "from keras.models import load_model\n",
    "import matplotlib.pyplot as plt"
   ]
  },
  {
   "cell_type": "code",
   "execution_count": 143,
   "metadata": {},
   "outputs": [],
   "source": [
    "inp=Input(shape=(1,))\n",
    "x=Dense(units=1)(inp)\n",
    "model=Model(inp,x)\n",
    "model.compile(optimizer='sgd',loss='mse')"
   ]
  },
  {
   "cell_type": "code",
   "execution_count": 144,
   "metadata": {},
   "outputs": [
    {
     "name": "stdout",
     "output_type": "stream",
     "text": [
      "Model: \"model_11\"\n",
      "_________________________________________________________________\n",
      "Layer (type)                 Output Shape              Param #   \n",
      "=================================================================\n",
      "input_11 (InputLayer)        (None, 1)                 0         \n",
      "_________________________________________________________________\n",
      "dense_11 (Dense)             (None, 1)                 2         \n",
      "=================================================================\n",
      "Total params: 2\n",
      "Trainable params: 2\n",
      "Non-trainable params: 0\n",
      "_________________________________________________________________\n"
     ]
    }
   ],
   "source": [
    "model.summary()"
   ]
  },
  {
   "cell_type": "code",
   "execution_count": 145,
   "metadata": {},
   "outputs": [
    {
     "name": "stdout",
     "output_type": "stream",
     "text": [
      "Train on 144 samples, validate on 16 samples\n",
      "Epoch 1/200\n",
      "144/144 [==============================] - 0s 1ms/step - loss: 49.9515 - val_loss: 4.5103\n",
      "Epoch 2/200\n",
      "144/144 [==============================] - 0s 104us/step - loss: 4.3989 - val_loss: 3.4568\n",
      "Epoch 3/200\n",
      "144/144 [==============================] - 0s 142us/step - loss: 4.0737 - val_loss: 3.3960\n",
      "Epoch 4/200\n",
      "144/144 [==============================] - 0s 120us/step - loss: 4.0980 - val_loss: 3.2030\n",
      "Epoch 5/200\n",
      "144/144 [==============================] - 0s 83us/step - loss: 3.8016 - val_loss: 3.3182\n",
      "Epoch 6/200\n",
      "144/144 [==============================] - 0s 72us/step - loss: 3.6090 - val_loss: 3.9436\n",
      "Epoch 7/200\n",
      "144/144 [==============================] - 0s 115us/step - loss: 3.5260 - val_loss: 3.5581\n",
      "Epoch 8/200\n",
      "144/144 [==============================] - 0s 132us/step - loss: 3.2827 - val_loss: 3.4238\n",
      "Epoch 9/200\n",
      "144/144 [==============================] - 0s 162us/step - loss: 3.1745 - val_loss: 2.6189\n",
      "Epoch 10/200\n",
      "144/144 [==============================] - 0s 104us/step - loss: 3.0512 - val_loss: 2.5536\n",
      "Epoch 11/200\n",
      "144/144 [==============================] - 0s 113us/step - loss: 2.9848 - val_loss: 2.7167\n",
      "Epoch 12/200\n",
      "144/144 [==============================] - 0s 93us/step - loss: 2.7681 - val_loss: 3.2756\n",
      "Epoch 13/200\n",
      "144/144 [==============================] - 0s 144us/step - loss: 2.6888 - val_loss: 3.0101\n",
      "Epoch 14/200\n",
      "144/144 [==============================] - 0s 147us/step - loss: 2.6448 - val_loss: 3.0618\n",
      "Epoch 15/200\n",
      "144/144 [==============================] - 0s 133us/step - loss: 2.6063 - val_loss: 3.3485\n",
      "Epoch 16/200\n",
      "144/144 [==============================] - 0s 161us/step - loss: 2.4546 - val_loss: 2.2829\n",
      "Epoch 17/200\n",
      "144/144 [==============================] - ETA: 0s - loss: 2.500 - 0s 137us/step - loss: 2.2240 - val_loss: 2.6787\n",
      "Epoch 18/200\n",
      "144/144 [==============================] - 0s 112us/step - loss: 2.1898 - val_loss: 2.5799\n",
      "Epoch 19/200\n",
      "144/144 [==============================] - 0s 111us/step - loss: 2.1445 - val_loss: 1.9514\n",
      "Epoch 20/200\n",
      "144/144 [==============================] - 0s 119us/step - loss: 1.9926 - val_loss: 1.8050\n",
      "Epoch 21/200\n",
      "144/144 [==============================] - 0s 99us/step - loss: 1.9037 - val_loss: 1.7731\n",
      "Epoch 22/200\n",
      "144/144 [==============================] - 0s 83us/step - loss: 1.8567 - val_loss: 1.9967\n",
      "Epoch 23/200\n",
      "144/144 [==============================] - 0s 105us/step - loss: 1.7767 - val_loss: 1.7404\n",
      "Epoch 24/200\n",
      "144/144 [==============================] - 0s 143us/step - loss: 1.7215 - val_loss: 2.1503\n",
      "Epoch 25/200\n",
      "144/144 [==============================] - 0s 142us/step - loss: 1.6807 - val_loss: 1.8613\n",
      "Epoch 26/200\n",
      "144/144 [==============================] - 0s 162us/step - loss: 1.7239 - val_loss: 1.5468\n",
      "Epoch 27/200\n",
      "144/144 [==============================] - 0s 103us/step - loss: 1.6833 - val_loss: 1.6709\n",
      "Epoch 28/200\n",
      "144/144 [==============================] - 0s 146us/step - loss: 1.6011 - val_loss: 1.6264\n",
      "Epoch 29/200\n",
      "144/144 [==============================] - 0s 131us/step - loss: 1.5333 - val_loss: 1.6794\n",
      "Epoch 30/200\n",
      "144/144 [==============================] - 0s 153us/step - loss: 1.4550 - val_loss: 1.7444\n",
      "Epoch 31/200\n",
      "144/144 [==============================] - 0s 190us/step - loss: 1.5531 - val_loss: 1.5752\n",
      "Epoch 32/200\n",
      "144/144 [==============================] - 0s 139us/step - loss: 1.3808 - val_loss: 2.0958\n",
      "Epoch 33/200\n",
      "144/144 [==============================] - 0s 125us/step - loss: 1.4418 - val_loss: 1.3462\n",
      "Epoch 34/200\n",
      "144/144 [==============================] - 0s 129us/step - loss: 1.3459 - val_loss: 1.7128\n",
      "Epoch 35/200\n",
      "144/144 [==============================] - 0s 153us/step - loss: 1.3192 - val_loss: 1.3038\n",
      "Epoch 36/200\n",
      "144/144 [==============================] - 0s 140us/step - loss: 1.2819 - val_loss: 1.2813\n",
      "Epoch 37/200\n",
      "144/144 [==============================] - 0s 182us/step - loss: 1.2435 - val_loss: 1.4779\n",
      "Epoch 38/200\n",
      "144/144 [==============================] - 0s 125us/step - loss: 1.2575 - val_loss: 1.4155\n",
      "Epoch 39/200\n",
      "144/144 [==============================] - 0s 70us/step - loss: 1.1909 - val_loss: 1.2283\n",
      "Epoch 40/200\n",
      "144/144 [==============================] - 0s 88us/step - loss: 1.1593 - val_loss: 1.3239\n",
      "Epoch 41/200\n",
      "144/144 [==============================] - 0s 131us/step - loss: 1.1539 - val_loss: 1.8482\n",
      "Epoch 42/200\n",
      "144/144 [==============================] - 0s 83us/step - loss: 1.2051 - val_loss: 1.3200\n",
      "Epoch 43/200\n",
      "144/144 [==============================] - 0s 91us/step - loss: 1.0889 - val_loss: 1.1583\n",
      "Epoch 44/200\n",
      "144/144 [==============================] - 0s 147us/step - loss: 1.0810 - val_loss: 1.1455\n",
      "Epoch 45/200\n",
      "144/144 [==============================] - 0s 103us/step - loss: 1.1011 - val_loss: 1.1314\n",
      "Epoch 46/200\n",
      "144/144 [==============================] - 0s 78us/step - loss: 1.0883 - val_loss: 1.5444\n",
      "Epoch 47/200\n",
      "144/144 [==============================] - 0s 148us/step - loss: 1.0700 - val_loss: 1.4768\n",
      "Epoch 48/200\n",
      "144/144 [==============================] - 0s 146us/step - loss: 1.0706 - val_loss: 1.4865\n",
      "Epoch 49/200\n",
      "144/144 [==============================] - 0s 140us/step - loss: 1.0350 - val_loss: 1.3919\n",
      "Epoch 50/200\n",
      "144/144 [==============================] - 0s 136us/step - loss: 1.0898 - val_loss: 1.7410\n",
      "Epoch 51/200\n",
      "144/144 [==============================] - 0s 146us/step - loss: 1.1027 - val_loss: 1.0838\n",
      "Epoch 52/200\n",
      "144/144 [==============================] - 0s 131us/step - loss: 0.9952 - val_loss: 1.1872\n",
      "Epoch 53/200\n",
      "144/144 [==============================] - 0s 155us/step - loss: 0.9783 - val_loss: 1.0560\n",
      "Epoch 54/200\n",
      "144/144 [==============================] - 0s 156us/step - loss: 0.9464 - val_loss: 1.2388\n",
      "Epoch 55/200\n",
      "144/144 [==============================] - 0s 128us/step - loss: 0.9636 - val_loss: 1.0826\n",
      "Epoch 56/200\n",
      "144/144 [==============================] - 0s 156us/step - loss: 0.9428 - val_loss: 1.1172\n",
      "Epoch 57/200\n",
      "144/144 [==============================] - 0s 159us/step - loss: 0.9402 - val_loss: 1.7764\n",
      "Epoch 58/200\n",
      "144/144 [==============================] - 0s 154us/step - loss: 1.0334 - val_loss: 1.2072\n",
      "Epoch 59/200\n",
      "144/144 [==============================] - 0s 133us/step - loss: 0.9344 - val_loss: 1.0745\n",
      "Epoch 60/200\n",
      "144/144 [==============================] - 0s 228us/step - loss: 0.9251 - val_loss: 1.1507\n",
      "Epoch 61/200\n",
      "144/144 [==============================] - 0s 104us/step - loss: 0.9053 - val_loss: 1.0398\n",
      "Epoch 62/200\n",
      "144/144 [==============================] - 0s 150us/step - loss: 0.9056 - val_loss: 0.9980\n",
      "Epoch 63/200\n",
      "144/144 [==============================] - 0s 165us/step - loss: 0.8911 - val_loss: 0.9987\n",
      "Epoch 64/200\n",
      "144/144 [==============================] - 0s 113us/step - loss: 0.8920 - val_loss: 1.2106\n",
      "Epoch 65/200\n",
      "144/144 [==============================] - 0s 175us/step - loss: 0.9265 - val_loss: 1.0583\n",
      "Epoch 66/200\n",
      "144/144 [==============================] - 0s 83us/step - loss: 0.8604 - val_loss: 1.1565\n",
      "Epoch 67/200\n",
      "144/144 [==============================] - 0s 100us/step - loss: 0.9303 - val_loss: 1.0215\n",
      "Epoch 68/200\n",
      "144/144 [==============================] - 0s 121us/step - loss: 0.8610 - val_loss: 0.9897\n",
      "Epoch 69/200\n",
      "144/144 [==============================] - 0s 163us/step - loss: 0.8933 - val_loss: 0.9712\n",
      "Epoch 70/200\n",
      "144/144 [==============================] - 0s 141us/step - loss: 0.8625 - val_loss: 1.0275\n",
      "Epoch 71/200\n",
      "144/144 [==============================] - 0s 112us/step - loss: 0.8691 - val_loss: 0.9730\n",
      "Epoch 72/200\n",
      "144/144 [==============================] - 0s 99us/step - loss: 0.8527 - val_loss: 0.9617\n",
      "Epoch 73/200\n",
      "144/144 [==============================] - 0s 83us/step - loss: 0.8722 - val_loss: 0.9607\n",
      "Epoch 74/200\n",
      "144/144 [==============================] - 0s 220us/step - loss: 0.8400 - val_loss: 1.0157\n",
      "Epoch 75/200\n",
      "144/144 [==============================] - 0s 111us/step - loss: 0.9022 - val_loss: 1.0532\n",
      "Epoch 76/200\n",
      "144/144 [==============================] - 0s 115us/step - loss: 0.8381 - val_loss: 1.1233\n",
      "Epoch 77/200\n",
      "144/144 [==============================] - 0s 153us/step - loss: 0.8983 - val_loss: 1.1382\n",
      "Epoch 78/200\n",
      "144/144 [==============================] - 0s 153us/step - loss: 0.8690 - val_loss: 1.0313\n",
      "Epoch 79/200\n",
      "144/144 [==============================] - 0s 134us/step - loss: 0.8556 - val_loss: 0.9691\n",
      "Epoch 80/200\n",
      "144/144 [==============================] - 0s 200us/step - loss: 0.8383 - val_loss: 1.2890\n",
      "Epoch 81/200\n",
      "144/144 [==============================] - 0s 183us/step - loss: 0.8775 - val_loss: 0.9404\n",
      "Epoch 82/200\n",
      "144/144 [==============================] - 0s 230us/step - loss: 0.8403 - val_loss: 0.9763\n",
      "Epoch 83/200\n",
      "144/144 [==============================] - 0s 222us/step - loss: 0.8931 - val_loss: 0.9436\n",
      "Epoch 84/200\n",
      "144/144 [==============================] - 0s 135us/step - loss: 0.8102 - val_loss: 1.6473\n",
      "Epoch 85/200\n",
      "144/144 [==============================] - 0s 114us/step - loss: 0.9623 - val_loss: 0.9813\n",
      "Epoch 86/200\n",
      "144/144 [==============================] - 0s 90us/step - loss: 0.8462 - val_loss: 0.9385\n",
      "Epoch 87/200\n",
      "144/144 [==============================] - 0s 145us/step - loss: 0.8562 - val_loss: 0.9356\n",
      "Epoch 88/200\n",
      "144/144 [==============================] - 0s 189us/step - loss: 0.8401 - val_loss: 1.1897\n",
      "Epoch 89/200\n",
      "144/144 [==============================] - 0s 115us/step - loss: 0.8692 - val_loss: 1.0128\n",
      "Epoch 90/200\n",
      "144/144 [==============================] - 0s 126us/step - loss: 0.8205 - val_loss: 1.0342\n",
      "Epoch 91/200\n",
      "144/144 [==============================] - 0s 188us/step - loss: 0.8657 - val_loss: 0.9924\n",
      "Epoch 92/200\n",
      "144/144 [==============================] - 0s 118us/step - loss: 0.8348 - val_loss: 1.2675\n",
      "Epoch 93/200\n",
      "144/144 [==============================] - 0s 92us/step - loss: 0.8940 - val_loss: 0.9846\n",
      "Epoch 94/200\n",
      "144/144 [==============================] - 0s 168us/step - loss: 0.8276 - val_loss: 1.0458\n",
      "Epoch 95/200\n",
      "144/144 [==============================] - 0s 139us/step - loss: 0.8680 - val_loss: 1.0655\n",
      "Epoch 96/200\n",
      "144/144 [==============================] - 0s 158us/step - loss: 0.8698 - val_loss: 0.9301\n",
      "Epoch 97/200\n",
      "144/144 [==============================] - 0s 143us/step - loss: 0.8284 - val_loss: 0.9263\n",
      "Epoch 98/200\n",
      "144/144 [==============================] - 0s 114us/step - loss: 0.8191 - val_loss: 0.9591\n",
      "Epoch 99/200\n",
      "144/144 [==============================] - 0s 140us/step - loss: 0.8389 - val_loss: 0.9312\n",
      "Epoch 100/200\n",
      "144/144 [==============================] - 0s 129us/step - loss: 0.8033 - val_loss: 0.9495\n",
      "Epoch 101/200\n",
      "144/144 [==============================] - 0s 146us/step - loss: 0.8017 - val_loss: 0.9813\n",
      "Epoch 102/200\n",
      "144/144 [==============================] - 0s 127us/step - loss: 0.8353 - val_loss: 1.0833\n",
      "Epoch 103/200\n",
      "144/144 [==============================] - 0s 111us/step - loss: 0.8545 - val_loss: 1.0792\n",
      "Epoch 104/200\n",
      "144/144 [==============================] - 0s 115us/step - loss: 0.8433 - val_loss: 0.9391\n",
      "Epoch 105/200\n",
      "144/144 [==============================] - 0s 135us/step - loss: 0.8113 - val_loss: 0.9465\n",
      "Epoch 106/200\n",
      "144/144 [==============================] - 0s 118us/step - loss: 0.7965 - val_loss: 0.9467\n",
      "Epoch 107/200\n",
      "144/144 [==============================] - 0s 114us/step - loss: 0.8211 - val_loss: 0.9105\n",
      "Epoch 108/200\n",
      "144/144 [==============================] - 0s 125us/step - loss: 0.8073 - val_loss: 0.9159\n",
      "Epoch 109/200\n",
      "144/144 [==============================] - 0s 139us/step - loss: 0.8354 - val_loss: 1.0366\n",
      "Epoch 110/200\n",
      "144/144 [==============================] - 0s 115us/step - loss: 0.8731 - val_loss: 1.0899\n",
      "Epoch 111/200\n",
      "144/144 [==============================] - 0s 122us/step - loss: 0.8239 - val_loss: 0.9280\n",
      "Epoch 112/200\n",
      "144/144 [==============================] - 0s 115us/step - loss: 0.8110 - val_loss: 0.9579\n",
      "Epoch 113/200\n",
      "144/144 [==============================] - 0s 106us/step - loss: 0.8201 - val_loss: 1.3021\n",
      "Epoch 114/200\n",
      "144/144 [==============================] - 0s 128us/step - loss: 0.8958 - val_loss: 1.1162\n",
      "Epoch 115/200\n",
      "144/144 [==============================] - 0s 112us/step - loss: 0.7783 - val_loss: 1.0274\n",
      "Epoch 116/200\n",
      "144/144 [==============================] - 0s 118us/step - loss: 0.8198 - val_loss: 0.9913\n",
      "Epoch 117/200\n",
      "144/144 [==============================] - 0s 129us/step - loss: 0.8039 - val_loss: 0.9361\n",
      "Epoch 118/200\n",
      "144/144 [==============================] - 0s 113us/step - loss: 0.7898 - val_loss: 1.0331\n",
      "Epoch 119/200\n",
      "144/144 [==============================] - 0s 112us/step - loss: 0.8439 - val_loss: 1.4612\n",
      "Epoch 120/200\n",
      "144/144 [==============================] - 0s 114us/step - loss: 0.8929 - val_loss: 1.1608\n",
      "Epoch 121/200\n",
      "144/144 [==============================] - 0s 104us/step - loss: 0.8149 - val_loss: 0.9106\n",
      "Epoch 122/200\n",
      "144/144 [==============================] - 0s 93us/step - loss: 0.8037 - val_loss: 0.9032\n",
      "Epoch 123/200\n",
      "144/144 [==============================] - 0s 85us/step - loss: 0.8492 - val_loss: 1.0957\n",
      "Epoch 124/200\n",
      "144/144 [==============================] - 0s 118us/step - loss: 0.8765 - val_loss: 1.0453\n",
      "Epoch 125/200\n",
      "144/144 [==============================] - 0s 116us/step - loss: 0.9058 - val_loss: 0.9088\n",
      "Epoch 126/200\n",
      "144/144 [==============================] - 0s 111us/step - loss: 0.8243 - val_loss: 0.9108\n",
      "Epoch 127/200\n",
      "144/144 [==============================] - 0s 137us/step - loss: 0.8383 - val_loss: 1.3047\n",
      "Epoch 128/200\n",
      "144/144 [==============================] - 0s 116us/step - loss: 0.8683 - val_loss: 1.0649\n",
      "Epoch 129/200\n",
      "144/144 [==============================] - 0s 118us/step - loss: 0.8438 - val_loss: 0.9979\n",
      "Epoch 130/200\n",
      "144/144 [==============================] - 0s 137us/step - loss: 0.7992 - val_loss: 1.0205\n",
      "Epoch 131/200\n",
      "144/144 [==============================] - 0s 121us/step - loss: 0.8906 - val_loss: 1.0582\n",
      "Epoch 132/200\n",
      "144/144 [==============================] - 0s 115us/step - loss: 0.7976 - val_loss: 0.9331\n",
      "Epoch 133/200\n",
      "144/144 [==============================] - 0s 190us/step - loss: 0.7913 - val_loss: 0.9101\n",
      "Epoch 134/200\n",
      "144/144 [==============================] - 0s 174us/step - loss: 0.8247 - val_loss: 0.9032\n",
      "Epoch 135/200\n",
      "144/144 [==============================] - 0s 137us/step - loss: 0.8280 - val_loss: 0.9153\n",
      "Epoch 136/200\n",
      "144/144 [==============================] - 0s 142us/step - loss: 0.8365 - val_loss: 0.9098\n",
      "Epoch 137/200\n",
      "144/144 [==============================] - 0s 94us/step - loss: 0.8090 - val_loss: 1.6192\n",
      "Epoch 138/200\n",
      "144/144 [==============================] - 0s 76us/step - loss: 0.8817 - val_loss: 0.8982\n",
      "Epoch 139/200\n",
      "144/144 [==============================] - 0s 115us/step - loss: 0.7976 - val_loss: 0.9068\n",
      "Epoch 140/200\n",
      "144/144 [==============================] - 0s 116us/step - loss: 0.8369 - val_loss: 1.0275\n",
      "Epoch 141/200\n",
      "144/144 [==============================] - 0s 118us/step - loss: 0.8119 - val_loss: 0.9129\n",
      "Epoch 142/200\n",
      "144/144 [==============================] - 0s 91us/step - loss: 0.7940 - val_loss: 0.9137\n",
      "Epoch 143/200\n",
      "144/144 [==============================] - 0s 110us/step - loss: 0.8088 - val_loss: 0.9490\n",
      "Epoch 144/200\n",
      "144/144 [==============================] - 0s 119us/step - loss: 0.8159 - val_loss: 1.1023\n",
      "Epoch 145/200\n",
      "144/144 [==============================] - 0s 92us/step - loss: 0.8062 - val_loss: 1.0027\n",
      "Epoch 146/200\n",
      "144/144 [==============================] - 0s 94us/step - loss: 0.8314 - val_loss: 0.9597\n",
      "Epoch 147/200\n",
      "144/144 [==============================] - 0s 83us/step - loss: 0.8315 - val_loss: 0.9165\n",
      "Epoch 148/200\n",
      "144/144 [==============================] - 0s 102us/step - loss: 0.8075 - val_loss: 0.9676\n",
      "Epoch 149/200\n",
      "144/144 [==============================] - 0s 116us/step - loss: 0.8676 - val_loss: 0.9020\n",
      "Epoch 150/200\n",
      "144/144 [==============================] - 0s 127us/step - loss: 0.8072 - val_loss: 1.9934\n",
      "Epoch 151/200\n",
      "144/144 [==============================] - 0s 116us/step - loss: 0.9359 - val_loss: 1.0044\n",
      "Epoch 152/200\n",
      "144/144 [==============================] - 0s 111us/step - loss: 0.9055 - val_loss: 0.8979\n",
      "Epoch 153/200\n",
      "144/144 [==============================] - 0s 148us/step - loss: 0.8063 - val_loss: 0.8965\n",
      "Epoch 154/200\n",
      "144/144 [==============================] - 0s 141us/step - loss: 0.8283 - val_loss: 1.3022\n",
      "Epoch 155/200\n",
      "144/144 [==============================] - 0s 136us/step - loss: 0.8871 - val_loss: 0.9653\n",
      "Epoch 156/200\n",
      "144/144 [==============================] - 0s 133us/step - loss: 0.8548 - val_loss: 0.9963\n",
      "Epoch 157/200\n",
      "144/144 [==============================] - 0s 125us/step - loss: 0.7990 - val_loss: 0.8972\n",
      "Epoch 158/200\n",
      "144/144 [==============================] - 0s 85us/step - loss: 0.8073 - val_loss: 1.0070\n",
      "Epoch 159/200\n",
      "144/144 [==============================] - 0s 100us/step - loss: 0.8440 - val_loss: 0.9562\n",
      "Epoch 160/200\n",
      "144/144 [==============================] - 0s 90us/step - loss: 0.8178 - val_loss: 1.4572\n",
      "Epoch 161/200\n",
      "144/144 [==============================] - 0s 99us/step - loss: 0.8908 - val_loss: 1.4461\n",
      "Epoch 162/200\n",
      "144/144 [==============================] - 0s 95us/step - loss: 0.8994 - val_loss: 0.8999\n",
      "Epoch 163/200\n",
      "144/144 [==============================] - 0s 114us/step - loss: 0.8052 - val_loss: 0.8975\n",
      "Epoch 164/200\n",
      "144/144 [==============================] - 0s 79us/step - loss: 0.8138 - val_loss: 1.1974\n",
      "Epoch 165/200\n",
      "144/144 [==============================] - 0s 107us/step - loss: 0.8216 - val_loss: 0.8988\n",
      "Epoch 166/200\n",
      "144/144 [==============================] - 0s 152us/step - loss: 0.8054 - val_loss: 0.9878\n",
      "Epoch 167/200\n",
      "144/144 [==============================] - 0s 85us/step - loss: 0.8229 - val_loss: 1.0415\n",
      "Epoch 168/200\n",
      "144/144 [==============================] - 0s 97us/step - loss: 0.8465 - val_loss: 0.9250\n",
      "Epoch 169/200\n",
      "144/144 [==============================] - 0s 116us/step - loss: 0.7958 - val_loss: 0.9084\n",
      "Epoch 170/200\n",
      "144/144 [==============================] - 0s 128us/step - loss: 0.8051 - val_loss: 0.8961\n",
      "Epoch 171/200\n",
      "144/144 [==============================] - 0s 140us/step - loss: 0.8197 - val_loss: 0.9043\n",
      "Epoch 172/200\n",
      "144/144 [==============================] - 0s 87us/step - loss: 0.8117 - val_loss: 0.8956\n",
      "Epoch 173/200\n",
      "144/144 [==============================] - 0s 186us/step - loss: 0.8202 - val_loss: 1.0737\n",
      "Epoch 174/200\n",
      "144/144 [==============================] - 0s 126us/step - loss: 0.8461 - val_loss: 1.0415\n",
      "Epoch 175/200\n",
      "144/144 [==============================] - 0s 132us/step - loss: 0.8181 - val_loss: 0.8996\n",
      "Epoch 176/200\n",
      "144/144 [==============================] - 0s 126us/step - loss: 0.8333 - val_loss: 0.9495\n",
      "Epoch 177/200\n",
      "144/144 [==============================] - 0s 114us/step - loss: 0.8241 - val_loss: 0.9752\n",
      "Epoch 178/200\n",
      "144/144 [==============================] - 0s 86us/step - loss: 0.8699 - val_loss: 2.0136\n",
      "Epoch 179/200\n",
      "144/144 [==============================] - 0s 100us/step - loss: 0.9081 - val_loss: 0.9213\n",
      "Epoch 180/200\n",
      "144/144 [==============================] - 0s 101us/step - loss: 0.8142 - val_loss: 0.9935\n",
      "Epoch 181/200\n",
      "144/144 [==============================] - 0s 104us/step - loss: 0.8458 - val_loss: 0.9075\n",
      "Epoch 182/200\n",
      "144/144 [==============================] - 0s 103us/step - loss: 0.8105 - val_loss: 1.2620\n",
      "Epoch 183/200\n",
      "144/144 [==============================] - 0s 112us/step - loss: 0.8745 - val_loss: 0.9107\n",
      "Epoch 184/200\n",
      "144/144 [==============================] - 0s 100us/step - loss: 0.8355 - val_loss: 0.9086\n",
      "Epoch 185/200\n",
      "144/144 [==============================] - 0s 85us/step - loss: 0.8025 - val_loss: 0.9382\n",
      "Epoch 186/200\n",
      "144/144 [==============================] - 0s 104us/step - loss: 0.8166 - val_loss: 4.3747\n",
      "Epoch 187/200\n",
      "144/144 [==============================] - 0s 104us/step - loss: 1.3940 - val_loss: 1.1282\n",
      "Epoch 188/200\n",
      "144/144 [==============================] - 0s 99us/step - loss: 0.8853 - val_loss: 0.9122\n",
      "Epoch 189/200\n",
      "144/144 [==============================] - 0s 92us/step - loss: 0.7968 - val_loss: 0.9060\n",
      "Epoch 190/200\n",
      "144/144 [==============================] - 0s 79us/step - loss: 0.8071 - val_loss: 0.9124\n",
      "Epoch 191/200\n",
      "144/144 [==============================] - 0s 114us/step - loss: 0.7993 - val_loss: 1.1460\n",
      "Epoch 192/200\n",
      "144/144 [==============================] - 0s 118us/step - loss: 0.8744 - val_loss: 0.9134\n",
      "Epoch 193/200\n",
      "144/144 [==============================] - 0s 114us/step - loss: 0.8204 - val_loss: 0.9428\n",
      "Epoch 194/200\n",
      "144/144 [==============================] - 0s 102us/step - loss: 0.8253 - val_loss: 1.1822\n",
      "Epoch 195/200\n",
      "144/144 [==============================] - 0s 90us/step - loss: 0.8830 - val_loss: 0.9294\n",
      "Epoch 196/200\n",
      "144/144 [==============================] - 0s 84us/step - loss: 0.8138 - val_loss: 1.0611\n",
      "Epoch 197/200\n",
      "144/144 [==============================] - 0s 106us/step - loss: 0.8048 - val_loss: 0.9110\n",
      "Epoch 198/200\n",
      "144/144 [==============================] - 0s 114us/step - loss: 0.8167 - val_loss: 1.0837\n",
      "Epoch 199/200\n",
      "144/144 [==============================] - 0s 83us/step - loss: 0.7941 - val_loss: 0.8993\n",
      "Epoch 200/200\n",
      "144/144 [==============================] - 0s 92us/step - loss: 0.8045 - val_loss: 0.9045\n"
     ]
    }
   ],
   "source": [
    "history=model.fit(X[:160],Y[:160],validation_split=0.1,epochs=200,batch_size=20)"
   ]
  },
  {
   "cell_type": "code",
   "execution_count": 146,
   "metadata": {},
   "outputs": [
    {
     "name": "stdout",
     "output_type": "stream",
     "text": [
      "40/40 [==============================] - 0s 150us/step\n"
     ]
    },
    {
     "data": {
      "text/plain": [
       "0.9775403022766114"
      ]
     },
     "execution_count": 146,
     "metadata": {},
     "output_type": "execute_result"
    }
   ],
   "source": [
    "model.evaluate(X[160:],Y[160:])"
   ]
  },
  {
   "cell_type": "code",
   "execution_count": 147,
   "metadata": {},
   "outputs": [],
   "source": [
    "w,b=model.layers[1].get_weights()"
   ]
  },
  {
   "cell_type": "code",
   "execution_count": 153,
   "metadata": {},
   "outputs": [],
   "source": [
    "(X_train,Y_train),(X_test,Y_test)=mnist.load_data()"
   ]
  },
  {
   "cell_type": "code",
   "execution_count": 154,
   "metadata": {},
   "outputs": [],
   "source": [
    "X_train=X_train.reshape(X_train.shape[0],-1)/255\n",
    "X_test=X_test.reshape(X_test.shape[0],-1)/255"
   ]
  },
  {
   "cell_type": "code",
   "execution_count": 155,
   "metadata": {},
   "outputs": [],
   "source": [
    "Y_train=np_utils.to_categorical(Y_train,10)\n",
    "Y_test=np_utils.to_categorical(Y_test,10)"
   ]
  },
  {
   "cell_type": "code",
   "execution_count": 161,
   "metadata": {},
   "outputs": [],
   "source": [
    "inp=Input(shape=(784,))\n",
    "x=Dense(32,activation='relu')(inp)\n",
    "x=Dense(10,activation='softmax')(x)\n",
    "model=Model(inp,x)\n",
    "model.compile(optimizer='adam',loss='categorical_crossentropy',metrics=['acc'])\n",
    "\n"
   ]
  },
  {
   "cell_type": "code",
   "execution_count": 163,
   "metadata": {},
   "outputs": [
    {
     "name": "stdout",
     "output_type": "stream",
     "text": [
      "Epoch 1/2\n",
      "60000/60000 [==============================] - 24s 405us/step - loss: 0.2609 - acc: 0.9226\n",
      "Epoch 2/2\n",
      "60000/60000 [==============================] - 22s 371us/step - loss: 0.1425 - acc: 0.9574\n"
     ]
    },
    {
     "data": {
      "text/plain": [
       "<keras.callbacks.callbacks.History at 0x225c16b2128>"
      ]
     },
     "execution_count": 163,
     "metadata": {},
     "output_type": "execute_result"
    }
   ],
   "source": [
    "model.fit(X_train,Y_train,epochs=2,batch_size=4)"
   ]
  },
  {
   "cell_type": "code",
   "execution_count": 164,
   "metadata": {},
   "outputs": [
    {
     "name": "stdout",
     "output_type": "stream",
     "text": [
      "10000/10000 [==============================] - 1s 111us/step\n"
     ]
    },
    {
     "data": {
      "text/plain": [
       "[0.12513850409910082, 0.9623000025749207]"
      ]
     },
     "execution_count": 164,
     "metadata": {},
     "output_type": "execute_result"
    }
   ],
   "source": [
    "model.evaluate(X_test,Y_test)"
   ]
  },
  {
   "cell_type": "code",
   "execution_count": 196,
   "metadata": {},
   "outputs": [],
   "source": [
    "(X_train,Y_train),(X_test,Y_test)=mnist.load_data()"
   ]
  },
  {
   "cell_type": "code",
   "execution_count": 197,
   "metadata": {},
   "outputs": [],
   "source": [
    "X_train=X_train.reshape(-1,28,28,1)/255\n",
    "X_test=X_test.reshape(-1,28,28,1)/255\n"
   ]
  },
  {
   "cell_type": "code",
   "execution_count": 198,
   "metadata": {},
   "outputs": [],
   "source": [
    "Y_train=np_utils.to_categorical(Y_train,10)\n",
    "Y_test=np_utils.to_categorical(Y_test,10)"
   ]
  },
  {
   "cell_type": "code",
   "execution_count": 199,
   "metadata": {},
   "outputs": [],
   "source": [
    "from keras.optimizers import Adam"
   ]
  },
  {
   "cell_type": "code",
   "execution_count": 200,
   "metadata": {},
   "outputs": [],
   "source": [
    "inp=Input(shape=(28,28,1))\n",
    "x=Conv2D(kernel_size=(5,5),filters=32,strides=1,padding='same')(inp)\n",
    "x=MaxPool2D(pool_size=(2,2),strides=2,padding='same')(x)\n",
    "x=Conv2D(kernel_size=(5,5),filters=64,strides=1,padding='same')(x)\n",
    "x=MaxPool2D(pool_size=(2,2),strides=2,padding='same')(x)\n",
    "x=Flatten()(x)\n",
    "x=Dense(1024,activation='relu')(x)\n",
    "x=Dense(10,activation='softmax')(x)\n",
    "model=Model(inp,x)\n",
    "adam=Adam(lr=0.0001)\n",
    "model.compile(optimizer=adam,loss='categorical_crossentropy',metrics=['accuracy'])"
   ]
  },
  {
   "cell_type": "code",
   "execution_count": 201,
   "metadata": {},
   "outputs": [
    {
     "name": "stdout",
     "output_type": "stream",
     "text": [
      "Model: \"model_28\"\n",
      "_________________________________________________________________\n",
      "Layer (type)                 Output Shape              Param #   \n",
      "=================================================================\n",
      "input_31 (InputLayer)        (None, 28, 28, 1)         0         \n",
      "_________________________________________________________________\n",
      "conv2d_25 (Conv2D)           (None, 28, 28, 32)        832       \n",
      "_________________________________________________________________\n",
      "max_pooling2d_25 (MaxPooling (None, 14, 14, 32)        0         \n",
      "_________________________________________________________________\n",
      "conv2d_26 (Conv2D)           (None, 14, 14, 64)        51264     \n",
      "_________________________________________________________________\n",
      "max_pooling2d_26 (MaxPooling (None, 7, 7, 64)          0         \n",
      "_________________________________________________________________\n",
      "flatten_12 (Flatten)         (None, 3136)              0         \n",
      "_________________________________________________________________\n",
      "dense_44 (Dense)             (None, 1024)              3212288   \n",
      "_________________________________________________________________\n",
      "dense_45 (Dense)             (None, 10)                10250     \n",
      "=================================================================\n",
      "Total params: 3,274,634\n",
      "Trainable params: 3,274,634\n",
      "Non-trainable params: 0\n",
      "_________________________________________________________________\n"
     ]
    }
   ],
   "source": [
    "model.summary()"
   ]
  },
  {
   "cell_type": "code",
   "execution_count": 202,
   "metadata": {},
   "outputs": [
    {
     "name": "stdout",
     "output_type": "stream",
     "text": [
      "Epoch 1/1\n",
      "60000/60000 [==============================] - 225s 4ms/step - loss: 0.2036 - accuracy: 0.9437\n"
     ]
    },
    {
     "data": {
      "text/plain": [
       "<keras.callbacks.callbacks.History at 0x225c1024908>"
      ]
     },
     "execution_count": 202,
     "metadata": {},
     "output_type": "execute_result"
    }
   ],
   "source": [
    "model.fit(X_train,Y_train)"
   ]
  },
  {
   "cell_type": "code",
   "execution_count": 203,
   "metadata": {},
   "outputs": [
    {
     "name": "stdout",
     "output_type": "stream",
     "text": [
      "10000/10000 [==============================] - 10s 992us/step\n"
     ]
    },
    {
     "data": {
      "text/plain": [
       "[0.06203326836451888, 0.9800000190734863]"
      ]
     },
     "execution_count": 203,
     "metadata": {},
     "output_type": "execute_result"
    }
   ],
   "source": [
    "model.evaluate(X_test,Y_test)"
   ]
  },
  {
   "cell_type": "code",
   "execution_count": null,
   "metadata": {},
   "outputs": [],
   "source": []
  }
 ],
 "metadata": {
  "kernelspec": {
   "display_name": "Python 3",
   "language": "python",
   "name": "python3"
  },
  "language_info": {
   "codemirror_mode": {
    "name": "ipython",
    "version": 3
   },
   "file_extension": ".py",
   "mimetype": "text/x-python",
   "name": "python",
   "nbconvert_exporter": "python",
   "pygments_lexer": "ipython3",
   "version": "3.7.0"
  }
 },
 "nbformat": 4,
 "nbformat_minor": 2
}
