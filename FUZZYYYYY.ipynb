{
 "cells": [
  {
   "cell_type": "code",
   "execution_count": 65,
   "metadata": {},
   "outputs": [],
   "source": [
    "import numpy as np\n",
    "import math"
   ]
  },
  {
   "cell_type": "code",
   "execution_count": 66,
   "metadata": {},
   "outputs": [],
   "source": [
    "x =np.array([[8, 7, 2, 1], [5, 3, 7, 5], [7, 5, 6, 4],[9, 9, 7, 3], [11, 10, 3, 7], [6, 9, 5, 4]])"
   ]
  },
  {
   "cell_type": "code",
   "execution_count": 67,
   "metadata": {},
   "outputs": [],
   "source": [
    "x_sum=np.array(sum(x**2,0))\n",
    "x_sums=np.array(np.cumsum(x**2,0))"
   ]
  },
  {
   "cell_type": "code",
   "execution_count": 68,
   "metadata": {},
   "outputs": [],
   "source": [
    "x_norm=np.array([[round(x[i,j]/math.sqrt(x_sum[j]),3) for j in range(4) ] for i in range(6)])"
   ]
  },
  {
   "cell_type": "code",
   "execution_count": 69,
   "metadata": {
    "scrolled": true
   },
   "outputs": [
    {
     "data": {
      "text/plain": [
       "array([[0.413, 0.377, 0.152, 0.093],\n",
       "       [0.258, 0.162, 0.534, 0.464],\n",
       "       [0.361, 0.269, 0.457, 0.371],\n",
       "       [0.464, 0.485, 0.534, 0.279],\n",
       "       [0.567, 0.538, 0.229, 0.65 ],\n",
       "       [0.309, 0.485, 0.381, 0.371]])"
      ]
     },
     "execution_count": 69,
     "metadata": {},
     "output_type": "execute_result"
    }
   ],
   "source": [
    "x_norm"
   ]
  },
  {
   "cell_type": "code",
   "execution_count": 70,
   "metadata": {},
   "outputs": [
    {
     "data": {
      "text/plain": [
       "0.534"
      ]
     },
     "execution_count": 70,
     "metadata": {},
     "output_type": "execute_result"
    }
   ],
   "source": [
    "x_norm[1][2]"
   ]
  },
  {
   "cell_type": "code",
   "execution_count": 12,
   "metadata": {},
   "outputs": [],
   "source": [
    "weights=np.array([0.4,0.3,0.1,0.2])"
   ]
  },
  {
   "cell_type": "code",
   "execution_count": 13,
   "metadata": {},
   "outputs": [],
   "source": [
    "x_w=np.array([[x_norm[i,j]*weights[j] for j in range(4)]for i in range(6)])"
   ]
  },
  {
   "cell_type": "code",
   "execution_count": 15,
   "metadata": {
    "scrolled": true
   },
   "outputs": [
    {
     "data": {
      "text/plain": [
       "array([[0.1652, 0.1131, 0.0152, 0.0186],\n",
       "       [0.1032, 0.0486, 0.0534, 0.0928],\n",
       "       [0.1444, 0.0807, 0.0457, 0.0742],\n",
       "       [0.1856, 0.1455, 0.0534, 0.0558],\n",
       "       [0.2268, 0.1614, 0.0229, 0.13  ],\n",
       "       [0.1236, 0.1455, 0.0381, 0.0742]])"
      ]
     },
     "execution_count": 15,
     "metadata": {},
     "output_type": "execute_result"
    }
   ],
   "source": [
    "x_w"
   ]
  },
  {
   "cell_type": "code",
   "execution_count": 32,
   "metadata": {},
   "outputs": [],
   "source": [
    "ideal=np.array([np.max(x_w[:,0]),np.max(x_w[:,1]),np.max(x_w[:,2]),np.max(x_w[:,3])])"
   ]
  },
  {
   "cell_type": "code",
   "execution_count": 42,
   "metadata": {},
   "outputs": [],
   "source": [
    "anti=np.array([np.min(x_w[:,0]),np.min(x_w[:,1]),np.min(x_w[:,2]),np.min(x_w[:,3])])"
   ]
  },
  {
   "cell_type": "code",
   "execution_count": 47,
   "metadata": {
    "scrolled": true
   },
   "outputs": [],
   "source": [
    "D_1=np.array([sum((x_w[i,j]-ideal[j])**2 for j in range(4))for i in range(6) ])\n",
    "D_1=np.array([math.sqrt(D_1[i])for i in range(6)])"
   ]
  },
  {
   "cell_type": "code",
   "execution_count": 48,
   "metadata": {},
   "outputs": [],
   "source": [
    "D_2=np.array([sum((x_w[i,j]-anti[j])**2 for j in range(4))for i in range(6) ])\n",
    "D_2=np.array([math.sqrt(D_2[i])for i in range(6)])"
   ]
  },
  {
   "cell_type": "code",
   "execution_count": 49,
   "metadata": {},
   "outputs": [],
   "source": [
    "score=np.array([D_2[i]/(D_1[i]+D_2[i])for i in range(6)])"
   ]
  },
  {
   "cell_type": "code",
   "execution_count": 51,
   "metadata": {},
   "outputs": [],
   "source": [
    "x=[i+1 for i in range(6)]"
   ]
  },
  {
   "cell_type": "code",
   "execution_count": 53,
   "metadata": {},
   "outputs": [],
   "source": [
    "import matplotlib.pyplot as plt"
   ]
  },
  {
   "cell_type": "code",
   "execution_count": 62,
   "metadata": {},
   "outputs": [
    {
     "data": {
      "text/plain": [
       "array([0.14140951, 0.17141949, 0.12835568, 0.0863475 , 0.0305    ,\n",
       "       0.11937663])"
      ]
     },
     "execution_count": 62,
     "metadata": {},
     "output_type": "execute_result"
    }
   ],
   "source": [
    "D_1"
   ]
  },
  {
   "cell_type": "code",
   "execution_count": 63,
   "metadata": {},
   "outputs": [
    {
     "data": {
      "text/plain": [
       "array([0.08946647, 0.08345586, 0.0821551 , 0.1379219 , 0.20117169,\n",
       "       0.11585137])"
      ]
     },
     "execution_count": 63,
     "metadata": {},
     "output_type": "execute_result"
    }
   ],
   "source": [
    "D_2"
   ]
  },
  {
   "cell_type": "code",
   "execution_count": 64,
   "metadata": {},
   "outputs": [
    {
     "data": {
      "text/plain": [
       "array([0.38750879, 0.32743794, 0.39026552, 0.61498315, 0.86834818,\n",
       "       0.49250672])"
      ]
     },
     "execution_count": 64,
     "metadata": {},
     "output_type": "execute_result"
    }
   ],
   "source": [
    "score"
   ]
  },
  {
   "cell_type": "code",
   "execution_count": 61,
   "metadata": {},
   "outputs": [
    {
     "data": {
      "image/png": "[encoded data removed]",
      "text/plain": [
       "<Figure size 432x288 with 1 Axes>"
      ]
     },
     "metadata": {
      "needs_background": "light"
     },
     "output_type": "display_data"
    }
   ],
   "source": [
    "plt.figure()\n",
    "plt.plot(x,D_1,'p--',color='red')\n",
    "plt.plot(x,D_2,'o--',color='blue')\n",
    "plt.plot(x,score,'*--',color='green')\n",
    "plt.legend(['BEST','WORST','SCORE'])\n",
    "plt.legend(labels=['BEST','WORST','SCORE'])\n",
    "plt.xlabel('plan')\n",
    "plt.grid(True)"
   ]
  },
  {
   "cell_type": "code",
   "execution_count": 191,
   "metadata": {},
   "outputs": [],
   "source": [
    "def b_w_value(a,b):# b 是标准【max、or min】\n",
    "    f=np.zeros((b.shape[0],2))\n",
    "    for i in range(b.shape[0]):\n",
    "        if b[i]=='MAX':\n",
    "            f[i,0]=np.max(a[:,i])\n",
    "            f[i,1]==np.min(a[:,i])\n",
    "        elif b[i]=='MIN':\n",
    "            f[i,0]=np.min(a[:,i])\n",
    "            f[i,1]=np.max(a[:,i])\n",
    "    return f\n",
    "            \n",
    "        \n",
    "    "
   ]
  },
  {
   "cell_type": "code",
   "execution_count": 115,
   "metadata": {},
   "outputs": [],
   "source": [
    "def SR(a,b,c):#b 是最好/坏（f），c是标准的权重\n",
    "    s=np.zeros(a.shape[0])\n",
    "    r=np.zeros(a.shape[0])\n",
    "    for i in range(a.shape[0]):\n",
    "        k=np.zeros(a.shape[1])\n",
    "      \n",
    "        for j in range(a.shape[1]):\n",
    "            k[j]=c[j]*(b[j,0]-a[i,j])/(b[j,0]-b[j,1])\n",
    "        s[i]=np.round(np.sum(k),3)\n",
    "        r[i]=np.round(np.max(k),3)\n",
    "    return s,r\n",
    "                   \n",
    "    \n",
    "    \n",
    "   \n",
    "    "
   ]
  },
  {
   "cell_type": "code",
   "execution_count": 116,
   "metadata": {},
   "outputs": [],
   "source": [
    "def Q(s,r,n):#s,r为SR函数求出的，n为标准数\n",
    "    q=np.zeros(a.shape[0])\n",
    "    z=(n+1)/(2*n)#######分母除法要加括号！！！！！！！！！！！！！！！！\n",
    "    for i in range(a.shape[0]):\n",
    "        q[i]=np.round(z*(s[i]-np.min(s))/(np.max(s)-np.min(s))+(1-z)*(r[i]-np.min(r))/(np.max(r)-np.min(r)),3)\n",
    "    return q"
   ]
  },
  {
   "cell_type": "code",
   "execution_count": 117,
   "metadata": {},
   "outputs": [],
   "source": [
    "def VIKOR(a,b,c,pl):# b为【min，max】c为权重\n",
    "    s,r=SR(a,b_w_value(a,b),c)\n",
    "    q=Q(s,r,len(c))\n",
    "    if pl=='y':\n",
    "        x=[i+1 for i in range(a.shape[0])]\n",
    "        plt.figure()\n",
    "        plt.plot(x,s,'p--',color='blue')\n",
    "        plt.plot(x,r,'o--',color='green')\n",
    "        plt.plot(x,q,'*--',color='red')\n",
    "        plt.legend(['S','R','Q'])\n",
    "        plt.title('VIKOR')\n",
    "        plt.legend(labels=['S','R','Q'])\n",
    "        plt.show()\n",
    "    return s,r,q\n",
    "    \n"
   ]
  },
  {
   "cell_type": "code",
   "execution_count": 118,
   "metadata": {},
   "outputs": [],
   "source": [
    "#def Q_1(s,r,n):\n",
    " #   q =np.zeros(s.shape[0])\n",
    " #   for i in range(s.shape[0]):\n",
    "  #      q[i] =np.round((((n + 1) / (2*n))*\n",
    "   #     (s[i] -np.min(s))/(max(s) -np.min(s)) +\n",
    "    #    (1-(n+1)/(2*n))*\n",
    "     #   (r[i] -np.min(r))/(max(r) -np.min(r))), 3)   \n",
    "        \n",
    "    #return q\n",
    "    "
   ]
  },
  {
   "cell_type": "code",
   "execution_count": 119,
   "metadata": {},
   "outputs": [],
   "source": [
    "a=np.array([[8, 7, 2, 1], [5, 3, 7, 5], [7, 5, 6, 4],[9, 9, 7, 3], [11, 10, 3, 7], [6, 9, 5, 4]])\n",
    "b=np.array(['MAX','MAX','MAX','MAX'])\n",
    "c=np.array([0.4,0.3,0.1,0.2])"
   ]
  },
  {
   "cell_type": "code",
   "execution_count": 120,
   "metadata": {},
   "outputs": [],
   "source": [
    "import numpy as np\n",
    "import matplotlib.pyplot as plt"
   ]
  },
  {
   "cell_type": "code",
   "execution_count": 121,
   "metadata": {
    "scrolled": true
   },
   "outputs": [
    {
     "data": {
      "image/png": "[encoded data removed]",
      "text/plain": [
       "<Figure size 432x288 with 1 Axes>"
      ]
     },
     "metadata": {
      "needs_background": "light"
     },
     "output_type": "display_data"
    },
    {
     "data": {
      "text/plain": [
       "(array([0.442, 0.485, 0.395, 0.217, 0.057, 0.326]),\n",
       " array([0.171, 0.218, 0.15 , 0.114, 0.057, 0.182]),\n",
       " array([0.828, 1.   , 0.71 , 0.366, 0.   , 0.684]))"
      ]
     },
     "execution_count": 121,
     "metadata": {},
     "output_type": "execute_result"
    }
   ],
   "source": [
    "VIKOR(a,b,c,'y')"
   ]
  },
  {
   "cell_type": "code",
   "execution_count": 253,
   "metadata": {},
   "outputs": [],
   "source": [
    "import numpy as np\n",
    "import matplotlib.pyplot as plt"
   ]
  },
  {
   "cell_type": "code",
   "execution_count": 254,
   "metadata": {},
   "outputs": [],
   "source": [
    "def agg_fuzzy_value(a,b,k):\n",
    "    f=np.zeros(len(b),4)\n",
    "    \n"
   ]
  },
  {
   "cell_type": "code",
   "execution_count": 255,
   "metadata": {},
   "outputs": [],
   "source": [
    " cw = {'VL':[0, 0, 0.1, 0.2],\n",
    "       'L':[0.1, 0.2, 0.2, 0.3],\n",
    "       'ML':[0.2, 0.3, 0.4, 0.5],\n",
    "       'M':[0.4, 0.5, 0.5, 0.6],\n",
    "       'MH':[0.5, 0.6, 0.7, 0.8], \n",
    "       'H':[0.7, 0.8, 0.8, 0.9],\n",
    "      'VH':[0.8, 0.9, 1, 1]} "
   ]
  },
  {
   "cell_type": "code",
   "execution_count": 256,
   "metadata": {},
   "outputs": [],
   "source": [
    " R = {'VP':[0.0, 0.0, 0.1, 0.2], \n",
    "      'P':[0.1, 0.2, 0.2, 0.3], \n",
    "      'MP':[ 0.2, 0.3, 0.4, 0.5], \n",
    "      'F':[0.4, 0.5, 0.5, 0.6],\n",
    "      'MG':[0.5, 0.6, 0.7, 0.8], \n",
    "      'G':[0.7, 0.8, 0.8, 0.9],\n",
    "      'VG':[0.8, 0.9, 1.0, 1.0]} "
   ]
  },
  {
   "cell_type": "code",
   "execution_count": 257,
   "metadata": {},
   "outputs": [],
   "source": [
    " cdw = np.array([['H', 'VH', 'VH'], ['M', 'H', 'VH'],['M', 'MH', 'ML'], ['H', 'VH', 'MH']])"
   ]
  },
  {
   "cell_type": "code",
   "execution_count": 258,
   "metadata": {},
   "outputs": [],
   "source": [
    "c1 = [['VG', 'G', 'MG'], ['F', 'MG', 'MG'],\n",
    "       ['P', 'P', 'MP'], ['G', 'VG', 'G']] \n",
    "c2 = [['MP', 'F', 'F'], ['F', 'VG', 'G'],\n",
    "      ['MG', 'VG', 'G'], ['MG', 'F', 'MP']] \n",
    "c3 = [['MG', 'MP', 'F'], ['MG', 'MG', 'VG'],\n",
    "      ['MP', 'F', 'F'], ['MP', 'P', 'P']] \n",
    "c4 = [['MG', 'VG', 'VG'], ['G', 'G', 'VG'], \n",
    "      ['MG', 'VG', 'G'], ['VP', 'F', 'P']] \n",
    "c5 = [['VP', 'P', 'G'], ['P', 'VP', 'MP'], \n",
    "      ['G', 'G', 'VG'], ['G', 'MG', 'MG']] \n",
    "c6 = [['F', 'G', 'G'], ['F', 'MP', 'MG'],\n",
    "        ['VG', 'MG', 'F'], ['P', 'MP', 'F']] "
   ]
  },
  {
   "cell_type": "code",
   "execution_count": 288,
   "metadata": {},
   "outputs": [],
   "source": [
    "crit_max_min=np.array(['MAX','MAX','MAX','MAX'])"
   ]
  },
  {
   "cell_type": "code",
   "execution_count": 260,
   "metadata": {},
   "outputs": [],
   "source": [
    "all_rating=np.vstack((c1,c2,c3,c4,c5,c6))"
   ]
  },
  {
   "cell_type": "code",
   "execution_count": 261,
   "metadata": {},
   "outputs": [
    {
     "data": {
      "text/plain": [
       "array([['VG', 'G', 'MG'],\n",
       "       ['F', 'MG', 'MG'],\n",
       "       ['P', 'P', 'MP'],\n",
       "       ['G', 'VG', 'G'],\n",
       "       ['MP', 'F', 'F'],\n",
       "       ['F', 'VG', 'G'],\n",
       "       ['MG', 'VG', 'G'],\n",
       "       ['MG', 'F', 'MP'],\n",
       "       ['MG', 'MP', 'F'],\n",
       "       ['MG', 'MG', 'VG'],\n",
       "       ['MP', 'F', 'F'],\n",
       "       ['MP', 'P', 'P'],\n",
       "       ['MG', 'VG', 'VG'],\n",
       "       ['G', 'G', 'VG'],\n",
       "       ['MG', 'VG', 'G'],\n",
       "       ['VP', 'F', 'P'],\n",
       "       ['VP', 'P', 'G'],\n",
       "       ['P', 'VP', 'MP'],\n",
       "       ['G', 'G', 'VG'],\n",
       "       ['G', 'MG', 'MG'],\n",
       "       ['F', 'G', 'G'],\n",
       "       ['F', 'MP', 'MG'],\n",
       "       ['VG', 'MG', 'F'],\n",
       "       ['P', 'MP', 'F']], dtype='<U2')"
      ]
     },
     "execution_count": 261,
     "metadata": {},
     "output_type": "execute_result"
    }
   ],
   "source": [
    "all_rating"
   ]
  },
  {
   "cell_type": "code",
   "execution_count": null,
   "metadata": {},
   "outputs": [],
   "source": []
  },
  {
   "cell_type": "code",
   "execution_count": 262,
   "metadata": {},
   "outputs": [
    {
     "data": {
      "text/plain": [
       "3"
      ]
     },
     "execution_count": 262,
     "metadata": {},
     "output_type": "execute_result"
    }
   ],
   "source": [
    "all_rating.shape[1]"
   ]
  },
  {
   "cell_type": "code",
   "execution_count": 263,
   "metadata": {},
   "outputs": [
    {
     "data": {
      "text/plain": [
       "array(['VG', 'G', 'MG'], dtype='<U2')"
      ]
     },
     "execution_count": 263,
     "metadata": {},
     "output_type": "execute_result"
    }
   ],
   "source": [
    "all_rating[0]"
   ]
  },
  {
   "cell_type": "code",
   "execution_count": 264,
   "metadata": {},
   "outputs": [],
   "source": [
    "def agg_fuzzy_value(a,b,k):\n",
    "    f=np.zeros((len(b),4))\n",
    "    for j in range(len(b)):\n",
    "        k0=a[b[j,0]][0]\n",
    "        k1=0\n",
    "        k2=0\n",
    "        k3=a[b[j,0]][3]\n",
    "        for i in range(b.shape[1]):\n",
    "            if k0>a[b[j,i]][0]:\n",
    "                k0=a[b[j,i]][0]\n",
    "            k1=k1+a[b[j,i]][1]\n",
    "            k2=k2+a[b[j,i]][2]\n",
    "            if k3<a[b[j,i]][3]:\n",
    "                k3=a[b[j,i]][3]\n",
    "        f[j,:]=np.round([k0,k1/k,k2/k,k3],3)\n",
    "    return f\n",
    "        "
   ]
  },
  {
   "cell_type": "code",
   "execution_count": 265,
   "metadata": {},
   "outputs": [],
   "source": [
    "def defuzzy(a):\n",
    "    \n",
    "        return  ((-a[0]*a[1]+a[2]*a[3]+(((a[3]-a[2])**2)/3)-(((a[1]-a[0])**2)/3))/(-a[0]-a[1]+a[2]+a[3]))\n",
    "    \n",
    "     \n"
   ]
  },
  {
   "cell_type": "code",
   "execution_count": 297,
   "metadata": {},
   "outputs": [],
   "source": [
    "def b_w_fij(a,b):\n",
    "    f=np.zeros((b.shape[0],2))\n",
    "    for i in range(b.shape[0]):\n",
    "        if b[i]=='MAX':\n",
    "            f[i,0]=np.max(a[:,i])\n",
    "            f[i,1]=np.min(a[:,i])\n",
    "        if b[i]=='MIN':\n",
    "            f[i,0]=np.min(a[:,i])\n",
    "            f[i,1]=np.max(a[:,i])\n",
    "            \n",
    "    \n",
    "    return f\n",
    "    \n",
    "def b_w_value(a,b):# b 是标准【max、or min】\n",
    "    f=np.zeros((b.shape[0],2))\n",
    "    for i in range(b.shape[0]):\n",
    "        if b[i]=='MAX':\n",
    "            f[i,0]=np.max(a[:,i])\n",
    "            f[i,1]=np.min(a[:,i])\n",
    "        elif b[i]=='MIN':\n",
    "            f[i,0]=np.min(a[:,i])\n",
    "            f[i,1]=np.max(a[:,i])\n",
    "    return f\n"
   ]
  },
  {
   "cell_type": "code",
   "execution_count": 267,
   "metadata": {},
   "outputs": [],
   "source": [
    "def SR(a,b,c):#b 是最好/坏（f），c是标准的权重\n",
    "    s=np.zeros(a.shape[0])\n",
    "    r=np.zeros(a.shape[0])\n",
    "    for i in range(a.shape[0]):\n",
    "        k=np.zeros(a.shape[1])\n",
    "      \n",
    "        for j in range(a.shape[1]):\n",
    "            k[j]=c[j]*(b[j,0]-a[i,j])/(b[j,0]-b[j,1])\n",
    "        s[i]=np.round(np.sum(k),3)\n",
    "        r[i]=np.round(np.max(k),3)\n",
    "    return s,r"
   ]
  },
  {
   "cell_type": "code",
   "execution_count": 300,
   "metadata": {},
   "outputs": [],
   "source": [
    "def Q(s,r,n):\n",
    "    q=np.zeros(s.shape[0])\n",
    "    for i in range(s.shape[0]):\n",
    "        q[i]=(2*n/(n+1))*(np.max(s)-s[i])/(np.max(s)-np.min(s))+(1-2*n/(n+1))*(np.max(r)-r[i])/(np.max(r)-np.min(r))\n",
    "    return q\n",
    "        "
   ]
  },
  {
   "cell_type": "code",
   "execution_count": 301,
   "metadata": {},
   "outputs": [],
   "source": [
    "def fuzzy_vikor(a,b,c,d,e,n,m,k,pl):\n",
    "    w=agg_fuzzy_value(a,b,k)\n",
    "    f_rdm_all=agg_fuzzy_value(c,d,k)\n",
    "    crispy_weights=np.zeros(n)\n",
    "    for i in range(n):\n",
    "        crispy_weights[i]=np.round(defuzzy(w[i]),3)\n",
    "    crispy_alernative_ratings=np.zeros((m,n))\n",
    "    k=0\n",
    "    for i in range(m):\n",
    "        for j in range(n):\n",
    "            crispy_alernative_ratings[i,j]=np.round(defuzzy(f_rdm_all[k]),3)\n",
    "            k=k+1\n",
    "    s,r=SR(crispy_alernative_ratings,b_w_fij(crispy_alernative_ratings,e),crispy_weights)\n",
    "    q=Q(s,r,len(w))\n",
    "    if pl=='y':\n",
    "        h = [i+1 for i in range(m)]\n",
    "        plt.figure()\n",
    "        plt.plot(h,s,'p--',color='red')\n",
    "        plt.plot(h,r,'*--',color='green')\n",
    "        plt.plot(h,q,'o--',color='blue')\n",
    "        plt.legend(['S','R','Q'])\n",
    "        plt.title('Fuzzy VIKOR')\n",
    "        plt.xlabel('ALternative')\n",
    "        plt.legend(labels=['S','R','Q'])\n",
    "        plt.show()\n",
    "    return s,r,q"
   ]
  },
  {
   "cell_type": "code",
   "execution_count": 312,
   "metadata": {},
   "outputs": [
    {
     "data": {
      "image/png": "[encoded data removed]",
      "text/plain": [
       "<Figure size 432x288 with 1 Axes>"
      ]
     },
     "metadata": {
      "needs_background": "light"
     },
     "output_type": "display_data"
    },
    {
     "data": {
      "text/plain": [
       "(array([0.837, 1.561, 1.938, 0.84 , 1.791, 1.499]),\n",
       " array([0.5  , 0.863, 0.769, 0.769, 0.87 , 0.677]),\n",
       " array([ 1.        ,  0.53651423, -0.16378378,  1.43185654,  0.21362398,\n",
       "         0.32499251]))"
      ]
     },
     "execution_count": 312,
     "metadata": {},
     "output_type": "execute_result"
    }
   ],
   "source": [
    "fuzzy_vikor(cw,cdw,R,all_rating,crit_max_min,4,6,3,'y')"
   ]
  },
  {
   "cell_type": "code",
   "execution_count": 313,
   "metadata": {},
   "outputs": [],
   "source": [
    "w=agg_fuzzy_value(cw,cdw,3)\n",
    "f_rdm_all=agg_fuzzy_value(R,all_rating,3)\n",
    "    "
   ]
  },
  {
   "cell_type": "code",
   "execution_count": 314,
   "metadata": {},
   "outputs": [
    {
     "data": {
      "text/plain": [
       "array([[0.7  , 0.867, 0.933, 1.   ],\n",
       "       [0.4  , 0.733, 0.767, 1.   ],\n",
       "       [0.2  , 0.467, 0.533, 0.8  ],\n",
       "       [0.5  , 0.767, 0.833, 1.   ]])"
      ]
     },
     "execution_count": 314,
     "metadata": {},
     "output_type": "execute_result"
    }
   ],
   "source": [
    "w"
   ]
  },
  {
   "cell_type": "code",
   "execution_count": 315,
   "metadata": {
    "scrolled": true
   },
   "outputs": [
    {
     "data": {
      "text/plain": [
       "array([[0.5  , 0.767, 0.833, 1.   ],\n",
       "       [0.4  , 0.567, 0.633, 0.8  ],\n",
       "       [0.1  , 0.233, 0.267, 0.5  ],\n",
       "       [0.7  , 0.833, 0.867, 1.   ],\n",
       "       [0.2  , 0.433, 0.467, 0.6  ],\n",
       "       [0.4  , 0.733, 0.767, 1.   ],\n",
       "       [0.5  , 0.767, 0.833, 1.   ],\n",
       "       [0.2  , 0.467, 0.533, 0.8  ],\n",
       "       [0.2  , 0.467, 0.533, 0.8  ],\n",
       "       [0.5  , 0.7  , 0.8  , 1.   ],\n",
       "       [0.2  , 0.433, 0.467, 0.6  ],\n",
       "       [0.1  , 0.233, 0.267, 0.5  ],\n",
       "       [0.5  , 0.8  , 0.9  , 1.   ],\n",
       "       [0.7  , 0.833, 0.867, 1.   ],\n",
       "       [0.5  , 0.767, 0.833, 1.   ],\n",
       "       [0.   , 0.233, 0.267, 0.6  ],\n",
       "       [0.   , 0.333, 0.367, 0.9  ],\n",
       "       [0.   , 0.167, 0.233, 0.5  ],\n",
       "       [0.7  , 0.833, 0.867, 1.   ],\n",
       "       [0.5  , 0.667, 0.733, 0.9  ],\n",
       "       [0.4  , 0.7  , 0.7  , 0.9  ],\n",
       "       [0.2  , 0.467, 0.533, 0.8  ],\n",
       "       [0.4  , 0.667, 0.733, 1.   ],\n",
       "       [0.1  , 0.333, 0.367, 0.6  ]])"
      ]
     },
     "execution_count": 315,
     "metadata": {},
     "output_type": "execute_result"
    }
   ],
   "source": [
    "f_rdm_all"
   ]
  },
  {
   "cell_type": "code",
   "execution_count": 318,
   "metadata": {},
   "outputs": [],
   "source": [
    "n=4\n",
    "m=6\n",
    "crispy_weights=np.zeros(n)\n",
    "for i in range(n):\n",
    "    crispy_weights[i]=np.round(defuzzy(w[i]),3)\n",
    "crispy_alernative_ratings=np.zeros((m,n))\n",
    "k=0\n",
    "for i in range(m):\n",
    "    for j in range(n):\n",
    "        crispy_alernative_ratings[i,j]=np.round(defuzzy(f_rdm_all[k]),3)\n",
    "        k=k+1"
   ]
  },
  {
   "cell_type": "code",
   "execution_count": 319,
   "metadata": {},
   "outputs": [
    {
     "data": {
      "text/plain": [
       "array([[0.769, 0.6  , 0.282, 0.85 ],\n",
       "       [0.418, 0.718, 0.769, 0.5  ],\n",
       "       [0.5  , 0.75 , 0.418, 0.282],\n",
       "       [0.789, 0.85 , 0.769, 0.282],\n",
       "       [0.415, 0.231, 0.85 , 0.7  ],\n",
       "       [0.667, 0.5  , 0.7  , 0.35 ]])"
      ]
     },
     "execution_count": 319,
     "metadata": {},
     "output_type": "execute_result"
    }
   ],
   "source": [
    "crispy_alernative_ratings"
   ]
  },
  {
   "cell_type": "code",
   "execution_count": 276,
   "metadata": {},
   "outputs": [
    {
     "data": {
      "text/plain": [
       "array([0.87 , 0.718, 0.5  , 0.769])"
      ]
     },
     "execution_count": 276,
     "metadata": {},
     "output_type": "execute_result"
    }
   ],
   "source": [
    "crispy_weights"
   ]
  },
  {
   "cell_type": "code",
   "execution_count": 277,
   "metadata": {},
   "outputs": [
    {
     "data": {
      "text/plain": [
       "0.282"
      ]
     },
     "execution_count": 277,
     "metadata": {},
     "output_type": "execute_result"
    }
   ],
   "source": [
    "np.round(np.min(crispy_alernative_ratings[:,2]),3)"
   ]
  },
  {
   "cell_type": "code",
   "execution_count": 307,
   "metadata": {},
   "outputs": [],
   "source": [
    "e=np.array(['MAX','MAX','MAX','MAX'])\n",
    "s,r=SR(crispy_alernative_ratings,b_w_fij(crispy_alernative_ratings,e),crispy_weights)"
   ]
  },
  {
   "cell_type": "code",
   "execution_count": 298,
   "metadata": {},
   "outputs": [],
   "source": [
    "b=b_w_fij(crispy_alernative_ratings,e)"
   ]
  },
  {
   "cell_type": "code",
   "execution_count": 280,
   "metadata": {},
   "outputs": [
    {
     "data": {
      "text/plain": [
       "array([0.769, 0.418, 0.5  , 0.789, 0.415, 0.667])"
      ]
     },
     "execution_count": 280,
     "metadata": {},
     "output_type": "execute_result"
    }
   ],
   "source": [
    "crispy_alernative_ratings[:,0]"
   ]
  },
  {
   "cell_type": "code",
   "execution_count": 323,
   "metadata": {},
   "outputs": [
    {
     "data": {
      "text/plain": [
       "array([[0.789, 0.415],\n",
       "       [0.85 , 0.231],\n",
       "       [0.85 , 0.282],\n",
       "       [0.85 , 0.282]])"
      ]
     },
     "execution_count": 323,
     "metadata": {},
     "output_type": "execute_result"
    }
   ],
   "source": [
    "b"
   ]
  },
  {
   "cell_type": "code",
   "execution_count": 291,
   "metadata": {},
   "outputs": [],
   "source": [
    "a=b_w_value(crispy_alernative_ratings,e)"
   ]
  },
  {
   "cell_type": "code",
   "execution_count": 292,
   "metadata": {},
   "outputs": [
    {
     "data": {
      "text/plain": [
       "array([[0.789, 0.415],\n",
       "       [0.85 , 0.231],\n",
       "       [0.85 , 0.282],\n",
       "       [0.85 , 0.282]])"
      ]
     },
     "execution_count": 292,
     "metadata": {},
     "output_type": "execute_result"
    }
   ],
   "source": [
    "a"
   ]
  },
  {
   "cell_type": "code",
   "execution_count": 283,
   "metadata": {},
   "outputs": [
    {
     "data": {
      "text/plain": [
       "0.415"
      ]
     },
     "execution_count": 283,
     "metadata": {},
     "output_type": "execute_result"
    }
   ],
   "source": [
    "np.min(crispy_alernative_ratings[:,0])"
   ]
  },
  {
   "cell_type": "code",
   "execution_count": 284,
   "metadata": {},
   "outputs": [
    {
     "data": {
      "text/plain": [
       "0.231"
      ]
     },
     "execution_count": 284,
     "metadata": {},
     "output_type": "execute_result"
    }
   ],
   "source": [
    "np.min(crispy_alernative_ratings[:,1])"
   ]
  },
  {
   "cell_type": "code",
   "execution_count": 299,
   "metadata": {},
   "outputs": [
    {
     "data": {
      "text/plain": [
       "array([0.415, 0.231, 0.282, 0.282])"
      ]
     },
     "execution_count": 299,
     "metadata": {},
     "output_type": "execute_result"
    }
   ],
   "source": [
    "b[:,1]"
   ]
  },
  {
   "cell_type": "code",
   "execution_count": 308,
   "metadata": {},
   "outputs": [
    {
     "data": {
      "text/plain": [
       "array([ 1.        ,  0.57348532, -0.19498069,  1.51463394,  0.22888283,\n",
       "        0.31094758])"
      ]
     },
     "execution_count": 308,
     "metadata": {},
     "output_type": "execute_result"
    }
   ],
   "source": [
    "Q(s,r,6)"
   ]
  },
  {
   "cell_type": "code",
   "execution_count": 309,
   "metadata": {},
   "outputs": [
    {
     "data": {
      "text/plain": [
       "array([0.837, 1.561, 1.938, 0.84 , 1.791, 1.499])"
      ]
     },
     "execution_count": 309,
     "metadata": {},
     "output_type": "execute_result"
    }
   ],
   "source": [
    "s"
   ]
  },
  {
   "cell_type": "code",
   "execution_count": 310,
   "metadata": {},
   "outputs": [
    {
     "data": {
      "text/plain": [
       "array([0.5  , 0.863, 0.769, 0.769, 0.87 , 0.677])"
      ]
     },
     "execution_count": 310,
     "metadata": {},
     "output_type": "execute_result"
    }
   ],
   "source": [
    "r"
   ]
  },
  {
   "cell_type": "code",
   "execution_count": 320,
   "metadata": {},
   "outputs": [],
   "source": [
    "v=np.zeros(4)\n",
    "for i in range(4):\n",
    "    v[i]=defuzzy(f_rdm_all[i])"
   ]
  },
  {
   "cell_type": "code",
   "execution_count": 321,
   "metadata": {},
   "outputs": [
    {
     "data": {
      "text/plain": [
       "array([0.76861013, 0.6       , 0.28202765, 0.85      ])"
      ]
     },
     "execution_count": 321,
     "metadata": {},
     "output_type": "execute_result"
    }
   ],
   "source": [
    "v"
   ]
  },
  {
   "cell_type": "code",
   "execution_count": 322,
   "metadata": {},
   "outputs": [
    {
     "data": {
      "text/plain": [
       "array([[0.5  , 0.767, 0.833, 1.   ],\n",
       "       [0.4  , 0.567, 0.633, 0.8  ],\n",
       "       [0.1  , 0.233, 0.267, 0.5  ],\n",
       "       [0.7  , 0.833, 0.867, 1.   ]])"
      ]
     },
     "execution_count": 322,
     "metadata": {},
     "output_type": "execute_result"
    }
   ],
   "source": [
    "f_rdm_all[0:4]"
   ]
  }
 ],
 "metadata": {
  "kernelspec": {
   "display_name": "Python 3",
   "language": "python",
   "name": "python3"
  },
  "language_info": {
   "codemirror_mode": {
    "name": "ipython",
    "version": 3
   },
   "file_extension": ".py",
   "mimetype": "text/x-python",
   "name": "python",
   "nbconvert_exporter": "python",
   "pygments_lexer": "ipython3",
   "version": "3.7.0"
  }
 },
 "nbformat": 4,
 "nbformat_minor": 2
}
