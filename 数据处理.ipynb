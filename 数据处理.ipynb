{
 "cells": [
  {
   "cell_type": "code",
   "execution_count": 2,
   "metadata": {},
   "outputs": [],
   "source": [
    "import numpy as np\n",
    "import pandas as pd\n"
   ]
  },
  {
   "cell_type": "code",
   "execution_count": 3,
   "metadata": {},
   "outputs": [],
   "source": [
    "a_1=pd.read_csv(\"F:\\\\firefoxdownload\\\\testb\\\\b\\\\test_beh_b.csv\")\n",
    "a_2=pd.read_csv(\"F:\\\\firefoxdownload\\\\testb\\\\b\\\\test_tag_b.csv\")\n",
    "a_3=pd.read_csv(\"F:\\\\firefoxdownload\\\\testb\\\\b\\\\test_trd_b.csv\")"
   ]
  },
  {
   "cell_type": "code",
   "execution_count": 4,
   "metadata": {},
   "outputs": [],
   "source": [
    "b_1=a_1.set_index('page_no').groupby('id')\n",
    "b=b_1.groups"
   ]
  },
  {
   "cell_type": "code",
   "execution_count": 5,
   "metadata": {},
   "outputs": [],
   "source": [
    "q=list(a_2['id'])\n",
    "q=dict.fromkeys(q)"
   ]
  },
  {
   "cell_type": "code",
   "execution_count": 6,
   "metadata": {},
   "outputs": [],
   "source": [
    "for i in q.keys():\n",
    "    if i in b.keys():\n",
    "        b[i]=[list(b[i]).count('FDA')+list(b[i]).count('TF2')+list(b[i]).count('JJD')+list(b[i]).count('JJK')+list(b[i]).count('LCT')+list(b[i]).count('MTA')+list(b[i]).count('SYK'),\n",
    "              list(b[i]).count('AAO')+list(b[i]).count('BWA')+list(b[i]).count('CQA')+list(b[i]).count('CQB')+list(b[i]).count('CQC')+list(b[i]).count('CQD')+list(b[i]).count('CQE')+\n",
    "              list(b[i]).count('FLS')+list(b[i]).count('FTR')+list(b[i]).count('GBA')+list(b[i]).count('LC0')+list(b[i]).count('SZA')+list(b[i]).count('SZD')+list(b[i]).count('ZY1'),\n",
    "              list(b[i]).count('BWE')+list(b[i]).count('CTR')+list(b[i]).count('EGA')+list(b[i]).count('EGB')+list(b[i]).count('MSG')+list(b[i]).count('TRN')+list(b[i]).count('XAS')+list(b[i]).count('XAI')]\n",
    "    else:\n",
    "        b[i]=[0,0,0]\n",
    "    "
   ]
  },
  {
   "cell_type": "code",
   "execution_count": 7,
   "metadata": {},
   "outputs": [],
   "source": [
    "k=np.zeros((len(b),3))"
   ]
  },
  {
   "cell_type": "code",
   "execution_count": 8,
   "metadata": {},
   "outputs": [],
   "source": [
    "i=0\n",
    "for key in a_2['id']:\n",
    "    for j in range(3):\n",
    "        k[i,j]=b[key][j]\n",
    "    i=i+1\n",
    "    "
   ]
  },
  {
   "cell_type": "code",
   "execution_count": 9,
   "metadata": {},
   "outputs": [],
   "source": [
    " aa_3=a_3.set_index('cny_trx_amt').groupby('id')"
   ]
  },
  {
   "cell_type": "code",
   "execution_count": 10,
   "metadata": {},
   "outputs": [],
   "source": [
    "aa_3=aa_3.groups"
   ]
  },
  {
   "cell_type": "code",
   "execution_count": 11,
   "metadata": {},
   "outputs": [],
   "source": [
    "for key in a_2['id']:\n",
    "    if key in aa_3.keys():\n",
    "        aa_3[key]=sum(list(aa_3[key]))\n",
    "    else:\n",
    "        aa_3[key]=0"
   ]
  },
  {
   "cell_type": "code",
   "execution_count": 12,
   "metadata": {},
   "outputs": [],
   "source": [
    "k_1=np.zeros(len(aa_3))"
   ]
  },
  {
   "cell_type": "code",
   "execution_count": 13,
   "metadata": {},
   "outputs": [],
   "source": [
    "i=0\n",
    "for key in a_2['id']:\n",
    "    k_1[i]=aa_3[key]\n",
    "    i=i+1"
   ]
  },
  {
   "cell_type": "code",
   "execution_count": 14,
   "metadata": {},
   "outputs": [],
   "source": [
    "aa_4=a_3.set_index('Dat_Flg3_Cd').groupby('id')"
   ]
  },
  {
   "cell_type": "code",
   "execution_count": 15,
   "metadata": {},
   "outputs": [],
   "source": [
    "aa_4=aa_4.groups"
   ]
  },
  {
   "cell_type": "code",
   "execution_count": 16,
   "metadata": {},
   "outputs": [],
   "source": [
    "for i in a_2['id']:\n",
    "    if i in aa_4.keys(): \n",
    "        aa_4[i]=[list(aa_4[i]).count('A'),list(aa_4[i]).count('B')]\n",
    "    else:\n",
    "        aa_4[i]=[0,0]"
   ]
  },
  {
   "cell_type": "code",
   "execution_count": 17,
   "metadata": {},
   "outputs": [],
   "source": [
    "k_2=np.zeros((len(aa_4),2))\n",
    "i=0\n",
    "for key in a_2['id']:\n",
    "    for j in range(2):\n",
    "        k_2[i,j]=aa_4[key][j]\n",
    "    i=i+1\n",
    "    "
   ]
  },
  {
   "cell_type": "code",
   "execution_count": 18,
   "metadata": {},
   "outputs": [],
   "source": [
    "a_2['page_low']=k[:,0]\n",
    "a_2['page_medium']=k[:,1]\n",
    "a_2['page_medium']=k[:,2]\n",
    "a_2['deal']=k_1\n",
    "a_2['deal_A']=k_2[:,0]\n",
    "a_2['deal_B']=k_2[:,1]"
   ]
  },
  {
   "cell_type": "code",
   "execution_count": 19,
   "metadata": {},
   "outputs": [
    {
     "data": {
      "text/plain": [
       "{'F', 'M', '\\\\N'}"
      ]
     },
     "execution_count": 19,
     "metadata": {},
     "output_type": "execute_result"
    }
   ],
   "source": [
    "##性别\n",
    "e_4=list(a_2['gdr_cd'])\n",
    "\n",
    "set(list(a_2['gdr_cd']))"
   ]
  },
  {
   "cell_type": "code",
   "execution_count": 20,
   "metadata": {},
   "outputs": [],
   "source": [
    "for i in range(len(e_4)):\n",
    "    if e_4[i]=='M':\n",
    "        e_4[i]=0\n",
    "    else:\n",
    "        e_4[i]=1"
   ]
  },
  {
   "cell_type": "code",
   "execution_count": 21,
   "metadata": {},
   "outputs": [],
   "source": [
    "a_2['gdr_cd']=e_4"
   ]
  },
  {
   "cell_type": "code",
   "execution_count": null,
   "metadata": {},
   "outputs": [],
   "source": []
  },
  {
   "cell_type": "code",
   "execution_count": 22,
   "metadata": {},
   "outputs": [],
   "source": [
    "aa_2=a_2.drop(['atdd_type'],axis=1)\n",
    "aa_2=aa_2.drop(['deg_cd'],axis=1)"
   ]
  },
  {
   "cell_type": "code",
   "execution_count": 23,
   "metadata": {},
   "outputs": [],
   "source": [
    "x=list(aa_2['mrg_situ_cd'])\n"
   ]
  },
  {
   "cell_type": "code",
   "execution_count": 24,
   "metadata": {},
   "outputs": [],
   "source": [
    "k_0=x.count('A')\n",
    "k_1=x.count('B')\n",
    "k_2=x.count('O')\n",
    "k_3=x.count('\\\\N')\n",
    "k_4=x.count('Z')\n",
    "k_5=x.count('~')\n",
    "k_6=k_0+k_1+k_2+k_4+k_5"
   ]
  },
  {
   "cell_type": "code",
   "execution_count": 25,
   "metadata": {},
   "outputs": [],
   "source": [
    "for i in range(len(x)):\n",
    "    if x[i]=='A':\n",
    "        x[i]=1\n",
    "    if x[i]=='B':\n",
    "        x[i]=2\n",
    "    if x[i]=='~':\n",
    "        x[i]=2\n",
    "    if x[i]=='O':\n",
    "        x[i]=3\n",
    "    if x[i]=='Z':\n",
    "        x[i]=4\n",
    "    else:\n",
    "        x[i]=1*(k_0/k_6)+2*((k_1+k_5)/k_6)+3*(k_2/k_6)+4*(k_4/k_6)"
   ]
  },
  {
   "cell_type": "code",
   "execution_count": 26,
   "metadata": {},
   "outputs": [],
   "source": [
    "aa_2['mrg_situ_cd']=x"
   ]
  },
  {
   "cell_type": "code",
   "execution_count": 27,
   "metadata": {},
   "outputs": [
    {
     "data": {
      "text/plain": [
       "{'A', 'B', 'C', 'D', 'F', 'G', 'K', 'L', 'M', 'Z', '\\\\N', nan, '~'}"
      ]
     },
     "execution_count": 27,
     "metadata": {},
     "output_type": "execute_result"
    }
   ],
   "source": [
    "x=list(aa_2['edu_deg_cd'])\n",
    "set(x)"
   ]
  },
  {
   "cell_type": "code",
   "execution_count": 28,
   "metadata": {},
   "outputs": [
    {
     "data": {
      "text/plain": [
       "{nan: 1247.0,\n",
       " 'B': 661.0,\n",
       " 'G': 92.0,\n",
       " '~': 10.0,\n",
       " 'D': 1.0,\n",
       " 'K': 211.0,\n",
       " 'M': 4.0,\n",
       " 'A': 83.0,\n",
       " '\\\\N': 86.0,\n",
       " 'Z': 234.0,\n",
       " 'L': 2.0,\n",
       " 'F': 716.0,\n",
       " 'C': 653.0}"
      ]
     },
     "execution_count": 28,
     "metadata": {},
     "output_type": "execute_result"
    }
   ],
   "source": [
    "u=list(set(x))\n",
    "c=np.zeros(len(u))\n",
    "for i in range(len(u)):\n",
    "    c[i]=x.count(u[i])\n",
    "v={}\n",
    "for i in range(len(u)):\n",
    "    v[u[i]]=c[i]\n",
    "v"
   ]
  },
  {
   "cell_type": "code",
   "execution_count": 29,
   "metadata": {},
   "outputs": [],
   "source": [
    "s=sum(list(v.values())[1:])"
   ]
  },
  {
   "cell_type": "code",
   "execution_count": 30,
   "metadata": {},
   "outputs": [],
   "source": [
    "for i in range(len(x)):\n",
    "    if x[i]=='C':\n",
    "        x[i]=3\n",
    "    if x[i]=='B':\n",
    "        x[i]=2\n",
    "    if x[i]=='A':\n",
    "        x[i]=1\n",
    "    if x[i]=='D':\n",
    "        x[i]=4\n",
    "    if x[i]=='F':\n",
    "        x[i]=5\n",
    "    if x[i]=='G':\n",
    "        x[i]=6\n",
    "    if x[i]=='K':\n",
    "        x[i]=7\n",
    "    if x[i]=='L':\n",
    "        x[i]=8\n",
    "    if x[i]=='M':\n",
    "        x[i]=9\n",
    "    if x[i]=='J':\n",
    "        x[i]=10\n",
    "    if x[i]=='Z':\n",
    "        x[i]=11\n",
    "    if x[i]=='nan':\n",
    "        x[i]=2\n",
    "    if x[i]=='//N':\n",
    "        x[i]=2\n",
    "    if x[i]=='~':\n",
    "        x[i]=3\n",
    "    else:\n",
    "        x[i]=3*(v['C']/s)+2*(v['B']/s)+1*(v['A']/s)+4*(v['D']/s)+5*(v['F']/s)+6*(v['G']/s)+7*(v['K']/s)+8*(v['L']/s)+9*(v['M']/s)\n",
    "        +11*(v['Z']/s)+2*(v['\\\\N']/s)+3*(v['~']/s)\n",
    "        \n",
    "    "
   ]
  },
  {
   "cell_type": "code",
   "execution_count": 31,
   "metadata": {},
   "outputs": [],
   "source": [
    "aa_2['edu_deg_cd']=x"
   ]
  },
  {
   "cell_type": "code",
   "execution_count": 32,
   "metadata": {},
   "outputs": [
    {
     "data": {
      "text/plain": [
       "['30', 'G', 'D', '\\\\N', '31', 'Z', 'F', 'C']"
      ]
     },
     "execution_count": 32,
     "metadata": {},
     "output_type": "execute_result"
    }
   ],
   "source": [
    "x=list(aa_2['acdm_deg_cd'])\n",
    "u=list(set(x))\n",
    "u"
   ]
  },
  {
   "cell_type": "code",
   "execution_count": 33,
   "metadata": {},
   "outputs": [],
   "source": [
    "v=np.zeros(len(u))\n",
    "for i in range(len(u)):\n",
    "    v[i]=x.count(u[i])\n",
    "l={}\n",
    "for i in range(len(u)):\n",
    "    l[u[i]]=v[i]"
   ]
  },
  {
   "cell_type": "code",
   "execution_count": 34,
   "metadata": {},
   "outputs": [
    {
     "data": {
      "text/plain": [
       "{'30': 822.0,\n",
       " 'G': 1360.0,\n",
       " 'D': 7.0,\n",
       " '\\\\N': 86.0,\n",
       " '31': 1027.0,\n",
       " 'Z': 453.0,\n",
       " 'F': 156.0,\n",
       " 'C': 89.0}"
      ]
     },
     "execution_count": 34,
     "metadata": {},
     "output_type": "execute_result"
    }
   ],
   "source": [
    "l"
   ]
  },
  {
   "cell_type": "code",
   "execution_count": 35,
   "metadata": {},
   "outputs": [],
   "source": [
    "for i in range(len(x)):\n",
    "    if x[i]=='C':\n",
    "        x[i]=1\n",
    "    if x[i]=='D':\n",
    "        x[i]=2\n",
    "    if x[i]=='30':\n",
    "        x[i]=3\n",
    "    if x[i]=='Z':\n",
    "        x[i]=4\n",
    "    if x[i]=='31':\n",
    "        x[i]=5\n",
    "    if x[i]=='G':\n",
    "        x[i]=6\n",
    "    if x[i]=='F':\n",
    "        x[i]=7\n",
    "    if x[i]=='nan':\n",
    "        x[i]=3\n",
    "    if x[i]=='\\\\N':\n",
    "        x[i]=1*(l['C']/sum(list(l.values())))+2*(l['D']/sum(list(l.values())))+3*(l['30']/sum(list(l.values())))+4*(l['Z']/sum(list(l.values())))\n",
    "        +5*(l['31']/sum(list(l.values())))+6*(l['G']/sum(list(l.values())))+7*(l['F']/sum(list(l.values())))\n",
    "        "
   ]
  },
  {
   "cell_type": "code",
   "execution_count": 36,
   "metadata": {},
   "outputs": [],
   "source": [
    "aa_2['acdm_deg_cd']=x"
   ]
  },
  {
   "cell_type": "code",
   "execution_count": 37,
   "metadata": {},
   "outputs": [
    {
     "data": {
      "text/html": [
       "<div>\n",
       "<style scoped>\n",
       "    .dataframe tbody tr th:only-of-type {\n",
       "        vertical-align: middle;\n",
       "    }\n",
       "\n",
       "    .dataframe tbody tr th {\n",
       "        vertical-align: top;\n",
       "    }\n",
       "\n",
       "    .dataframe thead th {\n",
       "        text-align: right;\n",
       "    }\n",
       "</style>\n",
       "<table border=\"1\" class=\"dataframe\">\n",
       "  <thead>\n",
       "    <tr style=\"text-align: right;\">\n",
       "      <th></th>\n",
       "      <th>Variables</th>\n",
       "      <th>Missing Values</th>\n",
       "    </tr>\n",
       "  </thead>\n",
       "  <tbody>\n",
       "    <tr>\n",
       "      <th>0</th>\n",
       "      <td>id</td>\n",
       "      <td>0</td>\n",
       "    </tr>\n",
       "    <tr>\n",
       "      <th>1</th>\n",
       "      <td>gdr_cd</td>\n",
       "      <td>0</td>\n",
       "    </tr>\n",
       "    <tr>\n",
       "      <th>2</th>\n",
       "      <td>age</td>\n",
       "      <td>0</td>\n",
       "    </tr>\n",
       "    <tr>\n",
       "      <th>3</th>\n",
       "      <td>mrg_situ_cd</td>\n",
       "      <td>0</td>\n",
       "    </tr>\n",
       "    <tr>\n",
       "      <th>4</th>\n",
       "      <td>edu_deg_cd</td>\n",
       "      <td>0</td>\n",
       "    </tr>\n",
       "    <tr>\n",
       "      <th>5</th>\n",
       "      <td>acdm_deg_cd</td>\n",
       "      <td>0</td>\n",
       "    </tr>\n",
       "    <tr>\n",
       "      <th>6</th>\n",
       "      <td>job_year</td>\n",
       "      <td>0</td>\n",
       "    </tr>\n",
       "    <tr>\n",
       "      <th>7</th>\n",
       "      <td>ic_ind</td>\n",
       "      <td>0</td>\n",
       "    </tr>\n",
       "    <tr>\n",
       "      <th>8</th>\n",
       "      <td>fr_or_sh_ind</td>\n",
       "      <td>0</td>\n",
       "    </tr>\n",
       "    <tr>\n",
       "      <th>9</th>\n",
       "      <td>dnl_mbl_bnk_ind</td>\n",
       "      <td>0</td>\n",
       "    </tr>\n",
       "    <tr>\n",
       "      <th>10</th>\n",
       "      <td>dnl_bind_cmb_lif_ind</td>\n",
       "      <td>0</td>\n",
       "    </tr>\n",
       "    <tr>\n",
       "      <th>11</th>\n",
       "      <td>hav_car_grp_ind</td>\n",
       "      <td>0</td>\n",
       "    </tr>\n",
       "    <tr>\n",
       "      <th>12</th>\n",
       "      <td>hav_hou_grp_ind</td>\n",
       "      <td>0</td>\n",
       "    </tr>\n",
       "    <tr>\n",
       "      <th>13</th>\n",
       "      <td>l6mon_agn_ind</td>\n",
       "      <td>0</td>\n",
       "    </tr>\n",
       "    <tr>\n",
       "      <th>14</th>\n",
       "      <td>frs_agn_dt_cnt</td>\n",
       "      <td>0</td>\n",
       "    </tr>\n",
       "    <tr>\n",
       "      <th>15</th>\n",
       "      <td>vld_rsk_ases_ind</td>\n",
       "      <td>0</td>\n",
       "    </tr>\n",
       "    <tr>\n",
       "      <th>16</th>\n",
       "      <td>fin_rsk_ases_grd_cd</td>\n",
       "      <td>0</td>\n",
       "    </tr>\n",
       "    <tr>\n",
       "      <th>17</th>\n",
       "      <td>confirm_rsk_ases_lvl_typ_cd</td>\n",
       "      <td>0</td>\n",
       "    </tr>\n",
       "    <tr>\n",
       "      <th>18</th>\n",
       "      <td>cust_inv_rsk_endu_lvl_cd</td>\n",
       "      <td>0</td>\n",
       "    </tr>\n",
       "    <tr>\n",
       "      <th>19</th>\n",
       "      <td>l6mon_daim_aum_cd</td>\n",
       "      <td>0</td>\n",
       "    </tr>\n",
       "    <tr>\n",
       "      <th>20</th>\n",
       "      <td>tot_ast_lvl_cd</td>\n",
       "      <td>0</td>\n",
       "    </tr>\n",
       "    <tr>\n",
       "      <th>21</th>\n",
       "      <td>pot_ast_lvl_cd</td>\n",
       "      <td>0</td>\n",
       "    </tr>\n",
       "    <tr>\n",
       "      <th>22</th>\n",
       "      <td>bk1_cur_year_mon_avg_agn_amt_cd</td>\n",
       "      <td>0</td>\n",
       "    </tr>\n",
       "    <tr>\n",
       "      <th>23</th>\n",
       "      <td>l12mon_buy_fin_mng_whl_tms</td>\n",
       "      <td>0</td>\n",
       "    </tr>\n",
       "    <tr>\n",
       "      <th>24</th>\n",
       "      <td>l12_mon_fnd_buy_whl_tms</td>\n",
       "      <td>0</td>\n",
       "    </tr>\n",
       "    <tr>\n",
       "      <th>25</th>\n",
       "      <td>l12_mon_insu_buy_whl_tms</td>\n",
       "      <td>0</td>\n",
       "    </tr>\n",
       "    <tr>\n",
       "      <th>26</th>\n",
       "      <td>l12_mon_gld_buy_whl_tms</td>\n",
       "      <td>0</td>\n",
       "    </tr>\n",
       "    <tr>\n",
       "      <th>27</th>\n",
       "      <td>loan_act_ind</td>\n",
       "      <td>0</td>\n",
       "    </tr>\n",
       "    <tr>\n",
       "      <th>28</th>\n",
       "      <td>pl_crd_lmt_cd</td>\n",
       "      <td>0</td>\n",
       "    </tr>\n",
       "    <tr>\n",
       "      <th>29</th>\n",
       "      <td>ovd_30d_loan_tot_cnt</td>\n",
       "      <td>0</td>\n",
       "    </tr>\n",
       "    <tr>\n",
       "      <th>30</th>\n",
       "      <td>his_lng_ovd_day</td>\n",
       "      <td>0</td>\n",
       "    </tr>\n",
       "    <tr>\n",
       "      <th>31</th>\n",
       "      <td>hld_crd_card_grd_cd</td>\n",
       "      <td>0</td>\n",
       "    </tr>\n",
       "    <tr>\n",
       "      <th>32</th>\n",
       "      <td>crd_card_act_ind</td>\n",
       "      <td>0</td>\n",
       "    </tr>\n",
       "    <tr>\n",
       "      <th>33</th>\n",
       "      <td>l1y_crd_card_csm_amt_dlm_cd</td>\n",
       "      <td>0</td>\n",
       "    </tr>\n",
       "    <tr>\n",
       "      <th>34</th>\n",
       "      <td>perm_crd_lmt_cd</td>\n",
       "      <td>0</td>\n",
       "    </tr>\n",
       "    <tr>\n",
       "      <th>35</th>\n",
       "      <td>cur_debit_cnt</td>\n",
       "      <td>0</td>\n",
       "    </tr>\n",
       "    <tr>\n",
       "      <th>36</th>\n",
       "      <td>cur_credit_cnt</td>\n",
       "      <td>0</td>\n",
       "    </tr>\n",
       "    <tr>\n",
       "      <th>37</th>\n",
       "      <td>cur_debit_min_opn_dt_cnt</td>\n",
       "      <td>0</td>\n",
       "    </tr>\n",
       "    <tr>\n",
       "      <th>38</th>\n",
       "      <td>cur_credit_min_opn_dt_cnt</td>\n",
       "      <td>0</td>\n",
       "    </tr>\n",
       "    <tr>\n",
       "      <th>39</th>\n",
       "      <td>cur_debit_crd_lvl</td>\n",
       "      <td>0</td>\n",
       "    </tr>\n",
       "    <tr>\n",
       "      <th>40</th>\n",
       "      <td>page_low</td>\n",
       "      <td>0</td>\n",
       "    </tr>\n",
       "    <tr>\n",
       "      <th>41</th>\n",
       "      <td>page_medium</td>\n",
       "      <td>0</td>\n",
       "    </tr>\n",
       "    <tr>\n",
       "      <th>42</th>\n",
       "      <td>deal</td>\n",
       "      <td>0</td>\n",
       "    </tr>\n",
       "    <tr>\n",
       "      <th>43</th>\n",
       "      <td>deal_A</td>\n",
       "      <td>0</td>\n",
       "    </tr>\n",
       "    <tr>\n",
       "      <th>44</th>\n",
       "      <td>deal_B</td>\n",
       "      <td>0</td>\n",
       "    </tr>\n",
       "  </tbody>\n",
       "</table>\n",
       "</div>"
      ],
      "text/plain": [
       "                          Variables  Missing Values\n",
       "0                                id               0\n",
       "1                            gdr_cd               0\n",
       "2                               age               0\n",
       "3                       mrg_situ_cd               0\n",
       "4                        edu_deg_cd               0\n",
       "5                       acdm_deg_cd               0\n",
       "6                          job_year               0\n",
       "7                            ic_ind               0\n",
       "8                      fr_or_sh_ind               0\n",
       "9                   dnl_mbl_bnk_ind               0\n",
       "10             dnl_bind_cmb_lif_ind               0\n",
       "11                  hav_car_grp_ind               0\n",
       "12                  hav_hou_grp_ind               0\n",
       "13                    l6mon_agn_ind               0\n",
       "14                   frs_agn_dt_cnt               0\n",
       "15                 vld_rsk_ases_ind               0\n",
       "16              fin_rsk_ases_grd_cd               0\n",
       "17      confirm_rsk_ases_lvl_typ_cd               0\n",
       "18         cust_inv_rsk_endu_lvl_cd               0\n",
       "19                l6mon_daim_aum_cd               0\n",
       "20                   tot_ast_lvl_cd               0\n",
       "21                   pot_ast_lvl_cd               0\n",
       "22  bk1_cur_year_mon_avg_agn_amt_cd               0\n",
       "23       l12mon_buy_fin_mng_whl_tms               0\n",
       "24          l12_mon_fnd_buy_whl_tms               0\n",
       "25         l12_mon_insu_buy_whl_tms               0\n",
       "26          l12_mon_gld_buy_whl_tms               0\n",
       "27                     loan_act_ind               0\n",
       "28                    pl_crd_lmt_cd               0\n",
       "29             ovd_30d_loan_tot_cnt               0\n",
       "30                  his_lng_ovd_day               0\n",
       "31              hld_crd_card_grd_cd               0\n",
       "32                 crd_card_act_ind               0\n",
       "33      l1y_crd_card_csm_amt_dlm_cd               0\n",
       "34                  perm_crd_lmt_cd               0\n",
       "35                    cur_debit_cnt               0\n",
       "36                   cur_credit_cnt               0\n",
       "37         cur_debit_min_opn_dt_cnt               0\n",
       "38        cur_credit_min_opn_dt_cnt               0\n",
       "39                cur_debit_crd_lvl               0\n",
       "40                         page_low               0\n",
       "41                      page_medium               0\n",
       "42                             deal               0\n",
       "43                           deal_A               0\n",
       "44                           deal_B               0"
      ]
     },
     "execution_count": 37,
     "metadata": {},
     "output_type": "execute_result"
    }
   ],
   "source": [
    "Missingdata=aa_2.isnull().sum().rename_axis('Variables').reset_index(name='Missing Values')\n",
    "Missingdata"
   ]
  },
  {
   "cell_type": "code",
   "execution_count": 38,
   "metadata": {},
   "outputs": [],
   "source": [
    "m=list(aa_2.columns)\n",
    "n={}\n",
    "for i in range(len(m)):\n",
    "    n[m[i]]=set(list(aa_2[m[i]]))"
   ]
  },
  {
   "cell_type": "code",
   "execution_count": 39,
   "metadata": {},
   "outputs": [],
   "source": [
    "h=[]\n",
    "for i in n.keys():\n",
    "    if '\\\\N' in list(n[i]):\n",
    "        h.append(i)\n",
    "    "
   ]
  },
  {
   "cell_type": "code",
   "execution_count": 40,
   "metadata": {},
   "outputs": [
    {
     "data": {
      "text/plain": [
       "['job_year',\n",
       " 'ic_ind',\n",
       " 'fr_or_sh_ind',\n",
       " 'dnl_mbl_bnk_ind',\n",
       " 'dnl_bind_cmb_lif_ind',\n",
       " 'hav_car_grp_ind',\n",
       " 'hav_hou_grp_ind',\n",
       " 'l6mon_agn_ind',\n",
       " 'frs_agn_dt_cnt',\n",
       " 'vld_rsk_ases_ind',\n",
       " 'fin_rsk_ases_grd_cd',\n",
       " 'confirm_rsk_ases_lvl_typ_cd',\n",
       " 'cust_inv_rsk_endu_lvl_cd',\n",
       " 'tot_ast_lvl_cd',\n",
       " 'pot_ast_lvl_cd',\n",
       " 'l12mon_buy_fin_mng_whl_tms',\n",
       " 'l12_mon_fnd_buy_whl_tms',\n",
       " 'l12_mon_insu_buy_whl_tms',\n",
       " 'l12_mon_gld_buy_whl_tms',\n",
       " 'loan_act_ind',\n",
       " 'ovd_30d_loan_tot_cnt',\n",
       " 'his_lng_ovd_day',\n",
       " 'hld_crd_card_grd_cd',\n",
       " 'crd_card_act_ind',\n",
       " 'l1y_crd_card_csm_amt_dlm_cd']"
      ]
     },
     "execution_count": 40,
     "metadata": {},
     "output_type": "execute_result"
    }
   ],
   "source": [
    "h"
   ]
  },
  {
   "cell_type": "code",
   "execution_count": 41,
   "metadata": {},
   "outputs": [],
   "source": [
    "o=[]\n",
    "for i in range(len(h)):\n",
    "    c_1=list(aa_2[h[i]])\n",
    "    for j in range(c_1.count('\\\\N')):\n",
    "        c_1.remove('\\\\N')\n",
    "    c_1=list(map(float,c_1))\n",
    "    o.append(np.mean(c_1))\n",
    "        "
   ]
  },
  {
   "cell_type": "code",
   "execution_count": 42,
   "metadata": {},
   "outputs": [
    {
     "data": {
      "text/plain": [
       "[2.8806990881458967,\n",
       " 0.022796352583586626,\n",
       " 0.1334853090172239,\n",
       " 0.5924518743667679,\n",
       " 0.8226950354609929,\n",
       " 0.3842451874366768,\n",
       " 0.017223910840932118,\n",
       " 0.11423505572441743,\n",
       " 173.22391084093212,\n",
       " 0.21833839918946302,\n",
       " -0.36271529888551163,\n",
       " -0.11423505572441743,\n",
       " 1.1623606889564337,\n",
       " -0.09929078014184398,\n",
       " 2.0182370820668694,\n",
       " 0.2763424518743668,\n",
       " 0.7386018237082067,\n",
       " 0.0035460992907801418,\n",
       " 0.06332320162107397,\n",
       " 0.05901722391084093,\n",
       " 0.008105369807497468,\n",
       " 1.2940729483282676,\n",
       " 15.355623100303951,\n",
       " 0.7160587639311043,\n",
       " 2.4944275582573456]"
      ]
     },
     "execution_count": 42,
     "metadata": {},
     "output_type": "execute_result"
    }
   ],
   "source": [
    "o"
   ]
  },
  {
   "cell_type": "code",
   "execution_count": 43,
   "metadata": {},
   "outputs": [],
   "source": [
    "for i in range(len(h)):\n",
    "    x=list(aa_2[h[i]])\n",
    "    for j in range(len(list(aa_2[h[i]]))):\n",
    "        if list(aa_2[h[i]])[j]=='\\\\N':\n",
    "            x[j]=o[i]\n",
    "    aa_2[h[i]]=x"
   ]
  },
  {
   "cell_type": "code",
   "execution_count": 44,
   "metadata": {},
   "outputs": [],
   "source": [
    "import pandas as pd"
   ]
  },
  {
   "cell_type": "code",
   "execution_count": 45,
   "metadata": {},
   "outputs": [],
   "source": [
    "for i in range(len(h)):\n",
    "    aa_2[h[i]]=pd.to_numeric(aa_2[h[i]])"
   ]
  },
  {
   "cell_type": "code",
   "execution_count": 46,
   "metadata": {},
   "outputs": [
    {
     "data": {
      "text/plain": [
       "id                                  object\n",
       "gdr_cd                               int64\n",
       "age                                  int64\n",
       "mrg_situ_cd                        float64\n",
       "edu_deg_cd                         float64\n",
       "acdm_deg_cd                        float64\n",
       "job_year                           float64\n",
       "ic_ind                             float64\n",
       "fr_or_sh_ind                       float64\n",
       "dnl_mbl_bnk_ind                    float64\n",
       "dnl_bind_cmb_lif_ind               float64\n",
       "hav_car_grp_ind                    float64\n",
       "hav_hou_grp_ind                    float64\n",
       "l6mon_agn_ind                      float64\n",
       "frs_agn_dt_cnt                     float64\n",
       "vld_rsk_ases_ind                   float64\n",
       "fin_rsk_ases_grd_cd                float64\n",
       "confirm_rsk_ases_lvl_typ_cd        float64\n",
       "cust_inv_rsk_endu_lvl_cd           float64\n",
       "l6mon_daim_aum_cd                    int64\n",
       "tot_ast_lvl_cd                     float64\n",
       "pot_ast_lvl_cd                     float64\n",
       "bk1_cur_year_mon_avg_agn_amt_cd      int64\n",
       "l12mon_buy_fin_mng_whl_tms         float64\n",
       "l12_mon_fnd_buy_whl_tms            float64\n",
       "l12_mon_insu_buy_whl_tms           float64\n",
       "l12_mon_gld_buy_whl_tms            float64\n",
       "loan_act_ind                       float64\n",
       "pl_crd_lmt_cd                        int64\n",
       "ovd_30d_loan_tot_cnt               float64\n",
       "his_lng_ovd_day                    float64\n",
       "hld_crd_card_grd_cd                float64\n",
       "crd_card_act_ind                   float64\n",
       "l1y_crd_card_csm_amt_dlm_cd        float64\n",
       "perm_crd_lmt_cd                      int64\n",
       "cur_debit_cnt                        int64\n",
       "cur_credit_cnt                       int64\n",
       "cur_debit_min_opn_dt_cnt             int64\n",
       "cur_credit_min_opn_dt_cnt            int64\n",
       "cur_debit_crd_lvl                    int64\n",
       "page_low                           float64\n",
       "page_medium                        float64\n",
       "deal                               float64\n",
       "deal_A                             float64\n",
       "deal_B                             float64\n",
       "dtype: object"
      ]
     },
     "execution_count": 46,
     "metadata": {},
     "output_type": "execute_result"
    }
   ],
   "source": [
    "aa_2.dtypes"
   ]
  },
  {
   "cell_type": "code",
   "execution_count": 50,
   "metadata": {},
   "outputs": [
    {
     "name": "stdout",
     "output_type": "stream",
     "text": [
      "id                                 False\n",
      "gdr_cd                             False\n",
      "age                                False\n",
      "mrg_situ_cd                        False\n",
      "edu_deg_cd                         False\n",
      "acdm_deg_cd                        False\n",
      "job_year                           False\n",
      "ic_ind                             False\n",
      "fr_or_sh_ind                       False\n",
      "dnl_mbl_bnk_ind                    False\n",
      "dnl_bind_cmb_lif_ind               False\n",
      "hav_car_grp_ind                    False\n",
      "hav_hou_grp_ind                    False\n",
      "l6mon_agn_ind                      False\n",
      "frs_agn_dt_cnt                     False\n",
      "vld_rsk_ases_ind                   False\n",
      "fin_rsk_ases_grd_cd                False\n",
      "confirm_rsk_ases_lvl_typ_cd        False\n",
      "cust_inv_rsk_endu_lvl_cd           False\n",
      "l6mon_daim_aum_cd                  False\n",
      "tot_ast_lvl_cd                     False\n",
      "pot_ast_lvl_cd                     False\n",
      "bk1_cur_year_mon_avg_agn_amt_cd    False\n",
      "l12mon_buy_fin_mng_whl_tms         False\n",
      "l12_mon_fnd_buy_whl_tms            False\n",
      "l12_mon_insu_buy_whl_tms           False\n",
      "l12_mon_gld_buy_whl_tms            False\n",
      "loan_act_ind                       False\n",
      "pl_crd_lmt_cd                      False\n",
      "ovd_30d_loan_tot_cnt               False\n",
      "his_lng_ovd_day                    False\n",
      "hld_crd_card_grd_cd                False\n",
      "crd_card_act_ind                   False\n",
      "l1y_crd_card_csm_amt_dlm_cd        False\n",
      "perm_crd_lmt_cd                    False\n",
      "cur_debit_cnt                      False\n",
      "cur_credit_cnt                     False\n",
      "cur_debit_min_opn_dt_cnt           False\n",
      "cur_credit_min_opn_dt_cnt          False\n",
      "cur_debit_crd_lvl                  False\n",
      "page_low                           False\n",
      "page_medium                        False\n",
      "deal                               False\n",
      "deal_A                             False\n",
      "deal_B                             False\n",
      "dtype: bool\n"
     ]
    }
   ],
   "source": [
    "print(aa_2.isnull().any())"
   ]
  },
  {
   "cell_type": "code",
   "execution_count": 49,
   "metadata": {},
   "outputs": [],
   "source": [
    "aa_2.to_csv('F:\\\\firefoxdownload\\\\testb\\\\b\\\\b.csv')"
   ]
  }
 ],
 "metadata": {
  "kernelspec": {
   "display_name": "Python 3",
   "language": "python",
   "name": "python3"
  },
  "language_info": {
   "codemirror_mode": {
    "name": "ipython",
    "version": 3
   },
   "file_extension": ".py",
   "mimetype": "text/x-python",
   "name": "python",
   "nbconvert_exporter": "python",
   "pygments_lexer": "ipython3",
   "version": "3.7.0"
  }
 },
 "nbformat": 4,
 "nbformat_minor": 2
}
